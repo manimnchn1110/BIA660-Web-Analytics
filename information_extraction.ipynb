{
 "cells": [
  {
   "cell_type": "markdown",
   "metadata": {},
   "source": [
    "This notebook try to Copy from information_extraction.py\n",
    "\n",
    "- import library"
   ]
  },
  {
   "cell_type": "code",
   "execution_count": 1,
   "metadata": {},
   "outputs": [],
   "source": [
    "from __future__ import print_function\n",
    "import re\n",
    "import spacy\n",
    "from pyclausie import ClausIE"
   ]
  },
  {
   "cell_type": "markdown",
   "metadata": {},
   "source": [
    "- automatically download the clausie jar file"
   ]
  },
  {
   "cell_type": "code",
   "execution_count": 2,
   "metadata": {},
   "outputs": [],
   "source": [
    "cl = ClausIE.get_instance()"
   ]
  },
  {
   "cell_type": "markdown",
   "metadata": {},
   "source": [
    "- load English in module spacy.language"
   ]
  },
  {
   "cell_type": "code",
   "execution_count": 3,
   "metadata": {},
   "outputs": [],
   "source": [
    "nlp = spacy.load('en')\n"
   ]
  },
  {
   "cell_type": "markdown",
   "metadata": {},
   "source": [
    "- load pattern object fun  \n",
    "        compile(pattern, flags=0)\n",
    "        Compile a regular expression pattern, returning a pattern object."
   ]
  },
  {
   "cell_type": "code",
   "execution_count": 4,
   "metadata": {},
   "outputs": [],
   "source": [
    "re_spaces = re.compile(r'\\s+')"
   ]
  },
  {
   "cell_type": "markdown",
   "metadata": {},
   "source": [
    "- Define Person class"
   ]
  },
  {
   "cell_type": "code",
   "execution_count": 5,
   "metadata": {},
   "outputs": [],
   "source": [
    "class Person(object):\n",
    "    def __init__(self, name, likes=None, has=None, travels=None):\n",
    "        #Person's name\n",
    "        self.name = name\n",
    "        #If there is a \"likes\" in the sentence, store it in the list otherwise store nothing\n",
    "        self.likes = [] if likes is None else likes  \n",
    "        #If there is a \"has\" in the sentence, store it in the list, otherwise store nothing\n",
    "        self.has = [] if has is None else has\n",
    "        #If there is a \"travels\" in the sentence, store it in the list, otherwise store nothing\n",
    "        self.travels = [] if travels is None else travels\n",
    "        \n",
    "    def __repr__(self):\n",
    "        return self.name\n",
    "        "
   ]
  },
  {
   "cell_type": "markdown",
   "metadata": {},
   "source": [
    "- Define Pet class"
   ]
  },
  {
   "cell_type": "code",
   "execution_count": 6,
   "metadata": {},
   "outputs": [],
   "source": [
    "class Pet(object):\n",
    "    def __init__(self, pet_type, name=None):\n",
    "        #Pet's name\n",
    "        self.name = name\n",
    "        #Pet's type\n",
    "        self.type = pet_type"
   ]
  },
  {
   "cell_type": "markdown",
   "metadata": {},
   "source": [
    "- Define Trip class"
   ]
  },
  {
   "cell_type": "code",
   "execution_count": 7,
   "metadata": {},
   "outputs": [],
   "source": [
    "class Trip(object):\n",
    "    def __init__(self):\n",
    "        # departure time\n",
    "        self.departs_on = None\n",
    "        # departure destination\n",
    "        self.departs_to = None"
   ]
  },
  {
   "cell_type": "markdown",
   "metadata": {},
   "source": [
    "- Create empty lists to collect persons, pets and trips"
   ]
  },
  {
   "cell_type": "code",
   "execution_count": 9,
   "metadata": {},
   "outputs": [],
   "source": [
    "persons = []\n",
    "pets = []\n",
    "trips = []"
   ]
  },
  {
   "cell_type": "markdown",
   "metadata": {},
   "source": [
    "- Define a function read file"
   ]
  },
  {
   "cell_type": "code",
   "execution_count": 10,
   "metadata": {},
   "outputs": [
    {
     "data": {
      "text/plain": [
       "['Joe likes Mary.',\n",
       " 'Bob is friends with Mary.',\n",
       " 'Bob has a dog named Fido.',\n",
       " 'Mary has a dog.',\n",
       " \"Mary's dog's name is Rover.\",\n",
       " \"Bob doesn't like Joe.\",\n",
       " 'Joe is friends with Mary.',\n",
       " 'Joe has a cat.',\n",
       " \"Joe's cat's name is Mr. Binglesworth.\",\n",
       " 'Bob and Mary are taking a trip to France in June of this year.']"
      ]
     },
     "execution_count": 10,
     "metadata": {},
     "output_type": "execute_result"
    }
   ],
   "source": [
    "def get_data_from_file(file_path):\n",
    "    #read data and ignore data with abnormal value\n",
    "    with open(file_path) as infile:\n",
    "        cleaned_lines = [line.strip() for line in infile if not line.startswith(('$$$', '###', '==='))]\n",
    "    #return these values with cleaning\n",
    "    return cleaned_lines\n",
    "\n",
    "data_sample = get_data_from_file('./chatbot_data.txt')\n",
    "data_sample"
   ]
  },
  {
   "cell_type": "markdown",
   "metadata": {},
   "source": [
    "- Test clausie's function"
   ]
  },
  {
   "cell_type": "code",
   "execution_count": 11,
   "metadata": {},
   "outputs": [
    {
     "name": "stdout",
     "output_type": "stream",
     "text": [
      "Triple(index='1', subject='Joe', predicate='likes', object='Mary')\n",
      "Triple(index='2', subject='Bob', predicate='is', object='friends with Mary')\n",
      "Triple(index='2', subject='Bob', predicate='is', object='friends')\n",
      "Triple(index='3', subject='Bob', predicate='has', object='a dog named Fido')\n",
      "Triple(index='3', subject='a dog', predicate='be named', object='Fido')\n",
      "Triple(index='4', subject='Mary', predicate='has', object='a dog')\n",
      "Triple(index='5', subject='Mary', predicate='has', object=\"dog 's\")\n",
      "Triple(index='5', subject=\"Mary 's dog\", predicate='has', object='name')\n",
      "Triple(index='5', subject=\"Mary 's dog 's name\", predicate='is', object='Rover')\n",
      "Triple(index='6', subject='Bob', predicate=\"does n't like\", object='Joe')\n",
      "Triple(index='7', subject='Joe', predicate='is', object='friends with Mary')\n",
      "Triple(index='7', subject='Joe', predicate='is', object='friends')\n",
      "Triple(index='8', subject='Joe', predicate='has', object='a cat')\n",
      "Triple(index='9', subject='Joe', predicate='has', object=\"cat 's\")\n",
      "Triple(index='9', subject=\"Joe 's cat\", predicate='has', object='name')\n",
      "Triple(index='9', subject=\"Joe 's cat 's name\", predicate='is', object='Mr. Binglesworth')\n",
      "Triple(index='10', subject='Bob and Mary', predicate='are taking', object='a trip to France in June of this year')\n"
     ]
    }
   ],
   "source": [
    "sents = data_sample\n",
    "triples = cl.extract_triples(sents)\n",
    "\n",
    "for triple in triples:\n",
    "    print (triple)"
   ]
  },
  {
   "cell_type": "markdown",
   "metadata": {},
   "source": [
    "- Define a select person function"
   ]
  },
  {
   "cell_type": "code",
   "execution_count": 12,
   "metadata": {},
   "outputs": [],
   "source": [
    "def select_person(name):\n",
    "    #If input name is one person's name who is in the persons list, return it.\n",
    "    for person in persons:\n",
    "        if person.name == name:\n",
    "            return person"
   ]
  },
  {
   "cell_type": "markdown",
   "metadata": {},
   "source": [
    "- Define a function add person"
   ]
  },
  {
   "cell_type": "code",
   "execution_count": 13,
   "metadata": {},
   "outputs": [],
   "source": [
    "def add_person(name):\n",
    "    #apply select_person function\n",
    "    #if input name is one person's name who is in the list already.\n",
    "    #return it.\n",
    "    person = select_person(name)\n",
    "    if person is None:\n",
    "        new_person = Person(name)\n",
    "        persons.apend(new_person)\n",
    "        return new_person\n",
    "    #if there is not such person, \n",
    "    #define it as a new person\n",
    "    #and add it into the persons list\n",
    "    #then return this new person\n",
    "    return person"
   ]
  },
  {
   "cell_type": "markdown",
   "metadata": {},
   "source": [
    "- Define a function select pet"
   ]
  },
  {
   "cell_type": "code",
   "execution_count": 14,
   "metadata": {},
   "outputs": [],
   "source": [
    "def select_pet(name):\n",
    "    for pet in person:#????\n",
    "        if pet.name == name:\n",
    "            return pet"
   ]
  },
  {
   "cell_type": "markdown",
   "metadata": {},
   "source": [
    "- define a function add pet"
   ]
  },
  {
   "cell_type": "code",
   "execution_count": 15,
   "metadata": {},
   "outputs": [],
   "source": [
    "def add_pet(type, name=None):\n",
    "    #refresh variable pet\n",
    "    pet = None\n",
    "    #if name is ture\n",
    "    #select this pet from persons list\n",
    "    #update variable pet\n",
    "    if name:\n",
    "        pet = select_pet(name)\n",
    "    #then pet = to \n",
    "    if pet is None:\n",
    "        pet = Pet(type, name)\n",
    "        pets.append(pet)\n",
    "\n",
    "    return pet"
   ]
  },
  {
   "cell_type": "markdown",
   "metadata": {},
   "source": [
    "- Define a function persons has pets"
   ]
  },
  {
   "cell_type": "code",
   "execution_count": 16,
   "metadata": {},
   "outputs": [],
   "source": [
    "def get_persons_pet(person_name):\n",
    "    #apply select_person function\n",
    "    #choose one person in persons list with his or her name\n",
    "    person = select_person(person_name)\n",
    "    #for any thing in the person.has list\n",
    "    for thing in person.has:\n",
    "        #test if thing is pet\n",
    "        #if yes, return thing\n",
    "        if isinstance(thing, Pet):\n",
    "            return thing"
   ]
  },
  {
   "cell_type": "markdown",
   "metadata": {},
   "source": [
    "- Define extract subject, object verb\n",
    "\n",
    "    Process a relation triplet found by ClausIE and store the data"
   ]
  },
  {
   "cell_type": "code",
   "execution_count": null,
   "metadata": {},
   "outputs": [],
   "source": [
    "def process_relation_triplet(triplet):\n",
    "    \n",
    "    \"\"\"\n",
    "    find relations of types:\n",
    "    (PERSON, likes, PERSON)\n",
    "    (PERSON, has, PET)\n",
    "    (PET, has_name, NAME)\n",
    "    (PERSON, travels, TRIP)\n",
    "    (TRIP, departs_on, DATE)\n",
    "    (TRIP, departs_to, PLACE)\n",
    "\n",
    "    :param triplet: The relation triplet from ClausIE\n",
    "    :type triplet: tuple\n",
    "    :return: a triplet in the formats specified above\n",
    "    :rtype: tuple\n",
    "    \"\"\"\n",
    "    sentence = triplet.subject + ' ' + triplet.predicate + ' ' + triplet.object\n",
    "\n",
    "    doc = nlp(unicode(sentence))\n",
    "\n",
    "    for t in doc:\n",
    "        if t.pos_ == 'VERB' and t.head == t:\n",
    "            root = t\n",
    "        # elif t.pos_ == 'NOUN'\n",
    "\n",
    "    # also, if only one sentence\n",
    "    # root = doc[:].root\n",
    "\n",
    "\n",
    "    \"\"\"\n",
    "    CURRENT ASSUMPTIONS:\n",
    "    - People's names are unique (i.e. there only exists one person with a certain name).\n",
    "    - Pet's names are unique\n",
    "    - The only pets are dogs and cats\n",
    "    - Only one person can own a specific pet\n",
    "    - A person can own only one pet\n",
    "    \"\"\"\n",
    "\n",
    "# Process (PERSON, likes, PERSON) relations\n",
    "    if root.lemma_ == 'like':\n",
    "        if triplet.subject in [e.text for e in doc.ents if e.label_ == 'PERSON'] and triplet.object in [e.text for e in doc.ents if e.label_ == 'PERSON']:\n",
    "            s = add_person(triplet.subject)\n",
    "            o = add_person(triplet.object)\n",
    "            s.likes.append(o)\n",
    "\n",
    "    if root.lemma_ == 'be' and triplet.object.startswith('friends with'):\n",
    "        fw_doc = nlp(unicode(triplet.object))\n",
    "        with_token = [t for t in fw_doc if t.text == 'with'][0]\n",
    "        fw_who = [t for t in with_token.children if t.dep_ == 'pobj'][0].text\n",
    "        # fw_who = [e for e in fw_doc.ents if e.label_ == 'PERSON'][0].text\n",
    "\n",
    "        if triplet.subject in [e.text for e in doc.ents if e.label_ == 'PERSON'] and fw_who in [e.text for e in doc.ents if e.label_ == 'PERSON']:\n",
    "            s = add_person(triplet.subject)\n",
    "            o = add_person(fw_who)\n",
    "            s.likes.append(o)\n",
    "            o.likes.append(s)\n",
    "\n",
    "\n",
    "    # Process (PET, has, NAME)\n",
    "    if triplet.subject.endswith('name') and ('dog' in triplet.subject or 'cat' in triplet.subject):\n",
    "        obj_span = doc.char_span(sentence.find(triplet.object), len(sentence))\n",
    "\n",
    "        # handle single names, but what about compound names? Noun chunks might help.\n",
    "        if len(obj_span) == 1 and obj_span[0].pos_ == 'PROPN':\n",
    "            name = triplet.object\n",
    "            subj_start = sentence.find(triplet.subject)\n",
    "            subj_doc = doc.char_span(subj_start, subj_start + len(triplet.subject))\n",
    "\n",
    "            s_people = [token.text for token in subj_doc if token.ent_type_ == 'PERSON']\n",
    "            assert len(s_people) == 1\n",
    "            s_person = select_person(s_people[0])\n",
    "\n",
    "            s_pet_type = 'dog' if 'dog' in triplet.subject else 'cat'\n",
    "\n",
    "            pet = add_pet(s_pet_type, name)\n",
    "\n",
    "            s_person.has.append(pet)"
   ]
  },
  {
   "cell_type": "markdown",
   "metadata": {},
   "source": [
    "- define a function to query question"
   ]
  },
  {
   "cell_type": "code",
   "execution_count": null,
   "metadata": {},
   "outputs": [],
   "source": [
    "def preprocess_question(question):\n",
    "    # remove articles: a, an, the\n",
    "\n",
    "    q_words = question.split(' ')\n",
    "\n",
    "    # when won't this work?\n",
    "    for article in ('a', 'an', 'the'):\n",
    "        try:\n",
    "            q_words.remove(article)\n",
    "        except:\n",
    "            pass\n",
    "\n",
    "    return re.sub(re_spaces, ' ', ' '.join(q_words))"
   ]
  },
  {
   "cell_type": "markdown",
   "metadata": {},
   "source": [
    "- define a function to extact information form query question"
   ]
  },
  {
   "cell_type": "code",
   "execution_count": null,
   "metadata": {},
   "outputs": [],
   "source": [
    "def has_question_word(string):\n",
    "    # note: there are other question words\n",
    "    for qword in ('who', 'what'):\n",
    "        if qword in string.lower():\n",
    "            return True\n",
    "\n",
    "    return False"
   ]
  },
  {
   "cell_type": "markdown",
   "metadata": {},
   "source": [
    "- define a main function"
   ]
  },
  {
   "cell_type": "code",
   "execution_count": null,
   "metadata": {},
   "outputs": [],
   "source": [
    "def main():\n",
    "    sents = get_data_from_file()\n",
    "\n",
    "    cl = ClausIE.get_instance()\n",
    "\n",
    "    triples = cl.extract_triples(sents)\n",
    "\n",
    "    for t in triples:\n",
    "        r = process_relation_triplet(t)\n",
    "        # print(r)\n",
    "\n",
    "    question = ' '\n",
    "    while question[-1] != '?':\n",
    "        question = raw_input(\"Please enter your question: \")\n",
    "\n",
    "        if question[-1] != '?':\n",
    "            print('This is not a question... please try again')\n",
    "\n",
    "    q_trip = cl.extract_triples([preprocess_question(question)])[0]\n",
    "\n",
    "    # (WHO, has, PET)\n",
    "    # here's one just for dogs\n",
    "    if q_trip.subject.lower() == 'who' and q_trip.object == 'dog':\n",
    "        answer = '{} has a {} named {}.'\n",
    "\n",
    "        for person in persons:\n",
    "            pet = get_persons_pet(person.name)\n",
    "            if pet and pet.type == 'dog':\n",
    "                print(answer.format(person.name, 'dog', pet.name))"
   ]
  },
  {
   "cell_type": "code",
   "execution_count": null,
   "metadata": {},
   "outputs": [],
   "source": [
    "if __name__ == '__main__':\n",
    "    main()"
   ]
  },
  {
   "cell_type": "code",
   "execution_count": null,
   "metadata": {},
   "outputs": [],
   "source": []
  }
 ],
 "metadata": {
  "kernelspec": {
   "display_name": "Python 2",
   "language": "python",
   "name": "python2"
  },
  "language_info": {
   "codemirror_mode": {
    "name": "ipython",
    "version": 2
   },
   "file_extension": ".py",
   "mimetype": "text/x-python",
   "name": "python",
   "nbconvert_exporter": "python",
   "pygments_lexer": "ipython2",
   "version": "2.7.14"
  }
 },
 "nbformat": 4,
 "nbformat_minor": 2
}
