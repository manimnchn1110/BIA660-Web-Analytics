{
 "cells": [
  {
   "cell_type": "code",
   "execution_count": 1,
   "metadata": {},
   "outputs": [],
   "source": [
    "import numpy as np \n",
    "import pandas as pd \n",
    "import matplotlib.pyplot as plt\n",
    "import seaborn as sns\n",
    "import matplotlib\n",
    "from datetime import datetime"
   ]
  },
  {
   "cell_type": "markdown",
   "metadata": {},
   "source": [
    "# Data EDA"
   ]
  },
  {
   "cell_type": "code",
   "execution_count": 2,
   "metadata": {},
   "outputs": [],
   "source": [
    "df = pd.read_json('reviews.json')"
   ]
  },
  {
   "cell_type": "code",
   "execution_count": 3,
   "metadata": {},
   "outputs": [
    {
     "data": {
      "text/html": [
       "<div>\n",
       "<style scoped>\n",
       "    .dataframe tbody tr th:only-of-type {\n",
       "        vertical-align: middle;\n",
       "    }\n",
       "\n",
       "    .dataframe tbody tr th {\n",
       "        vertical-align: top;\n",
       "    }\n",
       "\n",
       "    .dataframe thead th {\n",
       "        text-align: right;\n",
       "    }\n",
       "</style>\n",
       "<table border=\"1\" class=\"dataframe\">\n",
       "  <thead>\n",
       "    <tr style=\"text-align: right;\">\n",
       "      <th></th>\n",
       "      <th>product_pattern</th>\n",
       "      <th>review_date</th>\n",
       "      <th>review_id</th>\n",
       "      <th>review_rating</th>\n",
       "      <th>review_text</th>\n",
       "      <th>review_title</th>\n",
       "      <th>user_id</th>\n",
       "      <th>user_name</th>\n",
       "    </tr>\n",
       "  </thead>\n",
       "  <tbody>\n",
       "    <tr>\n",
       "      <th>0</th>\n",
       "      <td>Pattern: LED Flashlight 2P</td>\n",
       "      <td>2017-03-04</td>\n",
       "      <td>R3FS49IG7WSV3T</td>\n",
       "      <td>5</td>\n",
       "      <td>These Rockbirds LED Flashlights I bought came...</td>\n",
       "      <td>Quality made and a fantastic deal!  Let me sho...</td>\n",
       "      <td>AH324LU7UFITEQ77IETSUVLSCGEQ</td>\n",
       "      <td>GardenGuy</td>\n",
       "    </tr>\n",
       "    <tr>\n",
       "      <th>1</th>\n",
       "      <td>Pattern: LED Flashlight 2P</td>\n",
       "      <td>2018-02-10</td>\n",
       "      <td>RWJ5AI1HQ4RK9</td>\n",
       "      <td>4</td>\n",
       "      <td>Given my many prior, poor experiences with sev...</td>\n",
       "      <td>Miniature in size &amp; price, but big on light ou...</td>\n",
       "      <td>AEIL7YNQKHDFB4QHB3MSR262LNYQ</td>\n",
       "      <td>NSB</td>\n",
       "    </tr>\n",
       "    <tr>\n",
       "      <th>10</th>\n",
       "      <td>Pattern: LED Flashlight 2P</td>\n",
       "      <td>2017-04-27</td>\n",
       "      <td>R1SJEDRGD0ZI4P</td>\n",
       "      <td>5</td>\n",
       "      <td>Great deal for a pair of mini flashlights.  Ve...</td>\n",
       "      <td>love these mini flashlights</td>\n",
       "      <td>AGE4RTB36XFI6KKPR3G5AZMDDI3A</td>\n",
       "      <td>paintednightsky</td>\n",
       "    </tr>\n",
       "    <tr>\n",
       "      <th>100</th>\n",
       "      <td>Pattern: LED Flashlight 2P</td>\n",
       "      <td>2017-09-25</td>\n",
       "      <td>R15ICB0LYJIK9B</td>\n",
       "      <td>5</td>\n",
       "      <td>Nice, bright little flashlight for the money. ...</td>\n",
       "      <td>Good value</td>\n",
       "      <td>AFFTSHTP3GGXUMIRWYLD6F4MH6XQ</td>\n",
       "      <td>A. Collins</td>\n",
       "    </tr>\n",
       "    <tr>\n",
       "      <th>101</th>\n",
       "      <td>Pattern: 4 pack</td>\n",
       "      <td>2018-02-06</td>\n",
       "      <td>R341U8KZCCF6ZA</td>\n",
       "      <td>5</td>\n",
       "      <td>I loved these Rockbird flashlights. I already ...</td>\n",
       "      <td>Great flashlights for the price.</td>\n",
       "      <td>AHLWCEHGHDXTLTUITWFSN2ZT66SA</td>\n",
       "      <td>Cris0911</td>\n",
       "    </tr>\n",
       "  </tbody>\n",
       "</table>\n",
       "</div>"
      ],
      "text/plain": [
       "                product_pattern review_date       review_id  review_rating  \\\n",
       "0    Pattern: LED Flashlight 2P  2017-03-04  R3FS49IG7WSV3T              5   \n",
       "1    Pattern: LED Flashlight 2P  2018-02-10   RWJ5AI1HQ4RK9              4   \n",
       "10   Pattern: LED Flashlight 2P  2017-04-27  R1SJEDRGD0ZI4P              5   \n",
       "100  Pattern: LED Flashlight 2P  2017-09-25  R15ICB0LYJIK9B              5   \n",
       "101             Pattern: 4 pack  2018-02-06  R341U8KZCCF6ZA              5   \n",
       "\n",
       "                                           review_text  \\\n",
       "0     These Rockbirds LED Flashlights I bought came...   \n",
       "1    Given my many prior, poor experiences with sev...   \n",
       "10   Great deal for a pair of mini flashlights.  Ve...   \n",
       "100  Nice, bright little flashlight for the money. ...   \n",
       "101  I loved these Rockbird flashlights. I already ...   \n",
       "\n",
       "                                          review_title  \\\n",
       "0    Quality made and a fantastic deal!  Let me sho...   \n",
       "1    Miniature in size & price, but big on light ou...   \n",
       "10                         love these mini flashlights   \n",
       "100                                         Good value   \n",
       "101                   Great flashlights for the price.   \n",
       "\n",
       "                          user_id        user_name  \n",
       "0    AH324LU7UFITEQ77IETSUVLSCGEQ        GardenGuy  \n",
       "1    AEIL7YNQKHDFB4QHB3MSR262LNYQ              NSB  \n",
       "10   AGE4RTB36XFI6KKPR3G5AZMDDI3A  paintednightsky  \n",
       "100  AFFTSHTP3GGXUMIRWYLD6F4MH6XQ       A. Collins  \n",
       "101  AHLWCEHGHDXTLTUITWFSN2ZT66SA         Cris0911  "
      ]
     },
     "execution_count": 3,
     "metadata": {},
     "output_type": "execute_result"
    }
   ],
   "source": [
    "df.head()"
   ]
  },
  {
   "cell_type": "code",
   "execution_count": 4,
   "metadata": {},
   "outputs": [
    {
     "data": {
      "text/plain": [
       "product_pattern    742\n",
       "review_date        742\n",
       "review_id          742\n",
       "review_rating      742\n",
       "review_text        742\n",
       "review_title       742\n",
       "user_id            742\n",
       "user_name          742\n",
       "dtype: int64"
      ]
     },
     "execution_count": 4,
     "metadata": {},
     "output_type": "execute_result"
    }
   ],
   "source": [
    "df.count()"
   ]
  },
  {
   "cell_type": "code",
   "execution_count": 5,
   "metadata": {},
   "outputs": [
    {
     "data": {
      "text/plain": [
       "False"
      ]
     },
     "execution_count": 5,
     "metadata": {},
     "output_type": "execute_result"
    }
   ],
   "source": [
    "df.isnull().values.any()"
   ]
  },
  {
   "cell_type": "code",
   "execution_count": 6,
   "metadata": {},
   "outputs": [
    {
     "data": {
      "text/plain": [
       "product_pattern      3\n",
       "review_date        313\n",
       "review_id          742\n",
       "review_rating        5\n",
       "review_text        732\n",
       "review_title       480\n",
       "user_id            742\n",
       "user_name          645\n",
       "dtype: int64"
      ]
     },
     "execution_count": 6,
     "metadata": {},
     "output_type": "execute_result"
    }
   ],
   "source": [
    "df.nunique()"
   ]
  },
  {
   "cell_type": "code",
   "execution_count": 7,
   "metadata": {},
   "outputs": [
    {
     "name": "stdout",
     "output_type": "stream",
     "text": [
      "<class 'pandas.core.frame.DataFrame'>\n",
      "Int64Index: 742 entries, 0 to 99\n",
      "Data columns (total 8 columns):\n",
      "product_pattern    742 non-null object\n",
      "review_date        742 non-null object\n",
      "review_id          742 non-null object\n",
      "review_rating      742 non-null int64\n",
      "review_text        742 non-null object\n",
      "review_title       742 non-null object\n",
      "user_id            742 non-null object\n",
      "user_name          742 non-null object\n",
      "dtypes: int64(1), object(7)\n",
      "memory usage: 52.2+ KB\n"
     ]
    }
   ],
   "source": [
    "df.info()"
   ]
  },
  {
   "cell_type": "code",
   "execution_count": 8,
   "metadata": {},
   "outputs": [
    {
     "data": {
      "text/plain": [
       "array(['Pattern: LED Flashlight 2P', 'Pattern: 4 pack', 'Pattern: 6 pack'], dtype=object)"
      ]
     },
     "execution_count": 8,
     "metadata": {},
     "output_type": "execute_result"
    }
   ],
   "source": [
    "df.product_pattern.unique()"
   ]
  },
  {
   "cell_type": "markdown",
   "metadata": {},
   "source": [
    "- product_pattern"
   ]
  },
  {
   "cell_type": "code",
   "execution_count": 9,
   "metadata": {},
   "outputs": [],
   "source": [
    "df = df.replace({'Pattern: LED Flashlight 2P':'2 pack',\n",
    "         'Pattern: 4 pack':'4 pack', \n",
    "         'Pattern: 6 pack':'6 pack'})"
   ]
  },
  {
   "cell_type": "code",
   "execution_count": 10,
   "metadata": {},
   "outputs": [
    {
     "data": {
      "text/html": [
       "<div>\n",
       "<style scoped>\n",
       "    .dataframe tbody tr th:only-of-type {\n",
       "        vertical-align: middle;\n",
       "    }\n",
       "\n",
       "    .dataframe tbody tr th {\n",
       "        vertical-align: top;\n",
       "    }\n",
       "\n",
       "    .dataframe thead th {\n",
       "        text-align: right;\n",
       "    }\n",
       "</style>\n",
       "<table border=\"1\" class=\"dataframe\">\n",
       "  <thead>\n",
       "    <tr style=\"text-align: right;\">\n",
       "      <th></th>\n",
       "      <th>product_pattern</th>\n",
       "      <th>review_date</th>\n",
       "      <th>review_id</th>\n",
       "      <th>review_rating</th>\n",
       "      <th>review_text</th>\n",
       "      <th>review_title</th>\n",
       "      <th>user_id</th>\n",
       "      <th>user_name</th>\n",
       "    </tr>\n",
       "  </thead>\n",
       "  <tbody>\n",
       "    <tr>\n",
       "      <th>0</th>\n",
       "      <td>2 pack</td>\n",
       "      <td>2017-03-04</td>\n",
       "      <td>R3FS49IG7WSV3T</td>\n",
       "      <td>5</td>\n",
       "      <td>These Rockbirds LED Flashlights I bought came...</td>\n",
       "      <td>Quality made and a fantastic deal!  Let me sho...</td>\n",
       "      <td>AH324LU7UFITEQ77IETSUVLSCGEQ</td>\n",
       "      <td>GardenGuy</td>\n",
       "    </tr>\n",
       "    <tr>\n",
       "      <th>1</th>\n",
       "      <td>2 pack</td>\n",
       "      <td>2018-02-10</td>\n",
       "      <td>RWJ5AI1HQ4RK9</td>\n",
       "      <td>4</td>\n",
       "      <td>Given my many prior, poor experiences with sev...</td>\n",
       "      <td>Miniature in size &amp; price, but big on light ou...</td>\n",
       "      <td>AEIL7YNQKHDFB4QHB3MSR262LNYQ</td>\n",
       "      <td>NSB</td>\n",
       "    </tr>\n",
       "    <tr>\n",
       "      <th>10</th>\n",
       "      <td>2 pack</td>\n",
       "      <td>2017-04-27</td>\n",
       "      <td>R1SJEDRGD0ZI4P</td>\n",
       "      <td>5</td>\n",
       "      <td>Great deal for a pair of mini flashlights.  Ve...</td>\n",
       "      <td>love these mini flashlights</td>\n",
       "      <td>AGE4RTB36XFI6KKPR3G5AZMDDI3A</td>\n",
       "      <td>paintednightsky</td>\n",
       "    </tr>\n",
       "    <tr>\n",
       "      <th>100</th>\n",
       "      <td>2 pack</td>\n",
       "      <td>2017-09-25</td>\n",
       "      <td>R15ICB0LYJIK9B</td>\n",
       "      <td>5</td>\n",
       "      <td>Nice, bright little flashlight for the money. ...</td>\n",
       "      <td>Good value</td>\n",
       "      <td>AFFTSHTP3GGXUMIRWYLD6F4MH6XQ</td>\n",
       "      <td>A. Collins</td>\n",
       "    </tr>\n",
       "    <tr>\n",
       "      <th>101</th>\n",
       "      <td>4 pack</td>\n",
       "      <td>2018-02-06</td>\n",
       "      <td>R341U8KZCCF6ZA</td>\n",
       "      <td>5</td>\n",
       "      <td>I loved these Rockbird flashlights. I already ...</td>\n",
       "      <td>Great flashlights for the price.</td>\n",
       "      <td>AHLWCEHGHDXTLTUITWFSN2ZT66SA</td>\n",
       "      <td>Cris0911</td>\n",
       "    </tr>\n",
       "  </tbody>\n",
       "</table>\n",
       "</div>"
      ],
      "text/plain": [
       "    product_pattern review_date       review_id  review_rating  \\\n",
       "0            2 pack  2017-03-04  R3FS49IG7WSV3T              5   \n",
       "1            2 pack  2018-02-10   RWJ5AI1HQ4RK9              4   \n",
       "10           2 pack  2017-04-27  R1SJEDRGD0ZI4P              5   \n",
       "100          2 pack  2017-09-25  R15ICB0LYJIK9B              5   \n",
       "101          4 pack  2018-02-06  R341U8KZCCF6ZA              5   \n",
       "\n",
       "                                           review_text  \\\n",
       "0     These Rockbirds LED Flashlights I bought came...   \n",
       "1    Given my many prior, poor experiences with sev...   \n",
       "10   Great deal for a pair of mini flashlights.  Ve...   \n",
       "100  Nice, bright little flashlight for the money. ...   \n",
       "101  I loved these Rockbird flashlights. I already ...   \n",
       "\n",
       "                                          review_title  \\\n",
       "0    Quality made and a fantastic deal!  Let me sho...   \n",
       "1    Miniature in size & price, but big on light ou...   \n",
       "10                         love these mini flashlights   \n",
       "100                                         Good value   \n",
       "101                   Great flashlights for the price.   \n",
       "\n",
       "                          user_id        user_name  \n",
       "0    AH324LU7UFITEQ77IETSUVLSCGEQ        GardenGuy  \n",
       "1    AEIL7YNQKHDFB4QHB3MSR262LNYQ              NSB  \n",
       "10   AGE4RTB36XFI6KKPR3G5AZMDDI3A  paintednightsky  \n",
       "100  AFFTSHTP3GGXUMIRWYLD6F4MH6XQ       A. Collins  \n",
       "101  AHLWCEHGHDXTLTUITWFSN2ZT66SA         Cris0911  "
      ]
     },
     "execution_count": 10,
     "metadata": {},
     "output_type": "execute_result"
    }
   ],
   "source": [
    "df.head()"
   ]
  },
  {
   "cell_type": "markdown",
   "metadata": {},
   "source": [
    "- review_date"
   ]
  },
  {
   "cell_type": "code",
   "execution_count": 11,
   "metadata": {},
   "outputs": [
    {
     "data": {
      "text/html": [
       "<div>\n",
       "<style scoped>\n",
       "    .dataframe tbody tr th:only-of-type {\n",
       "        vertical-align: middle;\n",
       "    }\n",
       "\n",
       "    .dataframe tbody tr th {\n",
       "        vertical-align: top;\n",
       "    }\n",
       "\n",
       "    .dataframe thead th {\n",
       "        text-align: right;\n",
       "    }\n",
       "</style>\n",
       "<table border=\"1\" class=\"dataframe\">\n",
       "  <thead>\n",
       "    <tr style=\"text-align: right;\">\n",
       "      <th></th>\n",
       "      <th>product_pattern</th>\n",
       "      <th>review_date</th>\n",
       "      <th>review_id</th>\n",
       "      <th>review_rating</th>\n",
       "      <th>review_text</th>\n",
       "      <th>review_title</th>\n",
       "      <th>user_id</th>\n",
       "      <th>user_name</th>\n",
       "    </tr>\n",
       "  </thead>\n",
       "  <tbody>\n",
       "  </tbody>\n",
       "</table>\n",
       "</div>"
      ],
      "text/plain": [
       "Empty DataFrame\n",
       "Columns: [product_pattern, review_date, review_id, review_rating, review_text, review_title, user_id, user_name]\n",
       "Index: []"
      ]
     },
     "execution_count": 11,
     "metadata": {},
     "output_type": "execute_result"
    }
   ],
   "source": [
    "df[df.review_date < '2017-01-01']"
   ]
  },
  {
   "cell_type": "markdown",
   "metadata": {},
   "source": [
    "- review_id"
   ]
  },
  {
   "cell_type": "code",
   "execution_count": 12,
   "metadata": {},
   "outputs": [
    {
     "data": {
      "text/plain": [
       "742"
      ]
     },
     "execution_count": 12,
     "metadata": {},
     "output_type": "execute_result"
    }
   ],
   "source": [
    "len(df.review_id.unique())"
   ]
  },
  {
   "cell_type": "markdown",
   "metadata": {},
   "source": [
    "- review_rating"
   ]
  },
  {
   "cell_type": "code",
   "execution_count": 13,
   "metadata": {},
   "outputs": [
    {
     "data": {
      "text/plain": [
       "array([5, 4, 1, 3, 2])"
      ]
     },
     "execution_count": 13,
     "metadata": {},
     "output_type": "execute_result"
    }
   ],
   "source": [
    "df.review_rating.unique()"
   ]
  },
  {
   "cell_type": "code",
   "execution_count": 14,
   "metadata": {},
   "outputs": [
    {
     "data": {
      "text/html": [
       "<div>\n",
       "<style scoped>\n",
       "    .dataframe tbody tr th:only-of-type {\n",
       "        vertical-align: middle;\n",
       "    }\n",
       "\n",
       "    .dataframe tbody tr th {\n",
       "        vertical-align: top;\n",
       "    }\n",
       "\n",
       "    .dataframe thead th {\n",
       "        text-align: right;\n",
       "    }\n",
       "</style>\n",
       "<table border=\"1\" class=\"dataframe\">\n",
       "  <thead>\n",
       "    <tr style=\"text-align: right;\">\n",
       "      <th></th>\n",
       "      <th>rating</th>\n",
       "      <th>count</th>\n",
       "    </tr>\n",
       "  </thead>\n",
       "  <tbody>\n",
       "    <tr>\n",
       "      <th>0</th>\n",
       "      <td>5</td>\n",
       "      <td>473</td>\n",
       "    </tr>\n",
       "    <tr>\n",
       "      <th>1</th>\n",
       "      <td>4</td>\n",
       "      <td>104</td>\n",
       "    </tr>\n",
       "    <tr>\n",
       "      <th>2</th>\n",
       "      <td>1</td>\n",
       "      <td>70</td>\n",
       "    </tr>\n",
       "    <tr>\n",
       "      <th>3</th>\n",
       "      <td>3</td>\n",
       "      <td>49</td>\n",
       "    </tr>\n",
       "    <tr>\n",
       "      <th>4</th>\n",
       "      <td>2</td>\n",
       "      <td>46</td>\n",
       "    </tr>\n",
       "  </tbody>\n",
       "</table>\n",
       "</div>"
      ],
      "text/plain": [
       "   rating  count\n",
       "0       5    473\n",
       "1       4    104\n",
       "2       1     70\n",
       "3       3     49\n",
       "4       2     46"
      ]
     },
     "execution_count": 14,
     "metadata": {},
     "output_type": "execute_result"
    }
   ],
   "source": [
    "rating = pd.DataFrame(df.review_rating.value_counts().head(5))\n",
    "rating.reset_index(level=0, inplace = True)\n",
    "rating.columns=['rating', 'count']\n",
    "rating"
   ]
  },
  {
   "cell_type": "code",
   "execution_count": 15,
   "metadata": {},
   "outputs": [
    {
     "data": {
      "image/png": "[encoded data removed]",
      "text/plain": [
       "<matplotlib.figure.Figure at 0x112e3c9b0>"
      ]
     },
     "metadata": {},
     "output_type": "display_data"
    }
   ],
   "source": [
    "sns.distplot(df.review_rating, color = 'tomato')\n",
    "plt.show()"
   ]
  },
  {
   "cell_type": "markdown",
   "metadata": {},
   "source": [
    "- review_text"
   ]
  },
  {
   "cell_type": "code",
   "execution_count": 16,
   "metadata": {},
   "outputs": [
    {
     "data": {
      "text/plain": [
       "732"
      ]
     },
     "execution_count": 16,
     "metadata": {},
     "output_type": "execute_result"
    }
   ],
   "source": [
    "len(df.review_text.unique())"
   ]
  },
  {
   "cell_type": "code",
   "execution_count": 17,
   "metadata": {},
   "outputs": [],
   "source": [
    "review_text = pd.DataFrame(df.review_text.value_counts().head(10))\n",
    "review_text = pd.DataFrame(review_text.head(7))\n",
    "review_text.reset_index(level=0, inplace = True)\n",
    "review_text.columns = ['text', 'count']"
   ]
  },
  {
   "cell_type": "code",
   "execution_count": 18,
   "metadata": {},
   "outputs": [
    {
     "data": {
      "text/html": [
       "<div>\n",
       "<style scoped>\n",
       "    .dataframe tbody tr th:only-of-type {\n",
       "        vertical-align: middle;\n",
       "    }\n",
       "\n",
       "    .dataframe tbody tr th {\n",
       "        vertical-align: top;\n",
       "    }\n",
       "\n",
       "    .dataframe thead th {\n",
       "        text-align: right;\n",
       "    }\n",
       "</style>\n",
       "<table border=\"1\" class=\"dataframe\">\n",
       "  <thead>\n",
       "    <tr style=\"text-align: right;\">\n",
       "      <th></th>\n",
       "      <th>text</th>\n",
       "      <th>count</th>\n",
       "    </tr>\n",
       "  </thead>\n",
       "  <tbody>\n",
       "    <tr>\n",
       "      <th>0</th>\n",
       "      <td>Great product</td>\n",
       "      <td>4</td>\n",
       "    </tr>\n",
       "    <tr>\n",
       "      <th>1</th>\n",
       "      <td>Very bright and compact</td>\n",
       "      <td>3</td>\n",
       "    </tr>\n",
       "    <tr>\n",
       "      <th>2</th>\n",
       "      <td>Very good.</td>\n",
       "      <td>2</td>\n",
       "    </tr>\n",
       "    <tr>\n",
       "      <th>3</th>\n",
       "      <td>good</td>\n",
       "      <td>2</td>\n",
       "    </tr>\n",
       "    <tr>\n",
       "      <th>4</th>\n",
       "      <td>Perfect</td>\n",
       "      <td>2</td>\n",
       "    </tr>\n",
       "    <tr>\n",
       "      <th>5</th>\n",
       "      <td>perfect</td>\n",
       "      <td>2</td>\n",
       "    </tr>\n",
       "    <tr>\n",
       "      <th>6</th>\n",
       "      <td>very good</td>\n",
       "      <td>2</td>\n",
       "    </tr>\n",
       "  </tbody>\n",
       "</table>\n",
       "</div>"
      ],
      "text/plain": [
       "                      text  count\n",
       "0            Great product      4\n",
       "1  Very bright and compact      3\n",
       "2               Very good.      2\n",
       "3                     good      2\n",
       "4                  Perfect      2\n",
       "5                  perfect      2\n",
       "6                very good      2"
      ]
     },
     "execution_count": 18,
     "metadata": {},
     "output_type": "execute_result"
    }
   ],
   "source": [
    "review_text"
   ]
  },
  {
   "cell_type": "code",
   "execution_count": 19,
   "metadata": {},
   "outputs": [
    {
     "name": "stderr",
     "output_type": "stream",
     "text": [
      "/Users/mani/anaconda3/lib/python3.6/site-packages/seaborn/categorical.py:1460: FutureWarning: remove_na is deprecated and is a private function. Do not use.\n",
      "  stat_data = remove_na(group_data)\n"
     ]
    },
    {
     "data": {
      "image/png": "[encoded data removed]",
      "text/plain": [
       "<matplotlib.figure.Figure at 0x112e3c898>"
      ]
     },
     "metadata": {},
     "output_type": "display_data"
    }
   ],
   "source": [
    "f, ax = plt.subplots(figsize=(15, 8))\n",
    "\n",
    "sns.barplot(x=\"text\", y=\"count\", data=review_text,\n",
    "            label=\"Reviews Duplicate\", color=\"turquoise\",ax = ax)\n",
    "plt.show()"
   ]
  },
  {
   "cell_type": "markdown",
   "metadata": {},
   "source": [
    "- review title"
   ]
  },
  {
   "cell_type": "code",
   "execution_count": 20,
   "metadata": {},
   "outputs": [
    {
     "data": {
      "text/html": [
       "<div>\n",
       "<style scoped>\n",
       "    .dataframe tbody tr th:only-of-type {\n",
       "        vertical-align: middle;\n",
       "    }\n",
       "\n",
       "    .dataframe tbody tr th {\n",
       "        vertical-align: top;\n",
       "    }\n",
       "\n",
       "    .dataframe thead th {\n",
       "        text-align: right;\n",
       "    }\n",
       "</style>\n",
       "<table border=\"1\" class=\"dataframe\">\n",
       "  <thead>\n",
       "    <tr style=\"text-align: right;\">\n",
       "      <th></th>\n",
       "      <th>title</th>\n",
       "      <th>count</th>\n",
       "    </tr>\n",
       "  </thead>\n",
       "  <tbody>\n",
       "    <tr>\n",
       "      <th>0</th>\n",
       "      <td>Five Stars</td>\n",
       "      <td>184</td>\n",
       "    </tr>\n",
       "    <tr>\n",
       "      <th>1</th>\n",
       "      <td>Four Stars</td>\n",
       "      <td>35</td>\n",
       "    </tr>\n",
       "    <tr>\n",
       "      <th>2</th>\n",
       "      <td>One Star</td>\n",
       "      <td>18</td>\n",
       "    </tr>\n",
       "    <tr>\n",
       "      <th>3</th>\n",
       "      <td>Three Stars</td>\n",
       "      <td>14</td>\n",
       "    </tr>\n",
       "    <tr>\n",
       "      <th>4</th>\n",
       "      <td>Two Stars</td>\n",
       "      <td>6</td>\n",
       "    </tr>\n",
       "    <tr>\n",
       "      <th>5</th>\n",
       "      <td>great</td>\n",
       "      <td>2</td>\n",
       "    </tr>\n",
       "    <tr>\n",
       "      <th>6</th>\n",
       "      <td>Great little flashlight</td>\n",
       "      <td>2</td>\n",
       "    </tr>\n",
       "    <tr>\n",
       "      <th>7</th>\n",
       "      <td>Rockbirds LED Flashlight</td>\n",
       "      <td>2</td>\n",
       "    </tr>\n",
       "    <tr>\n",
       "      <th>8</th>\n",
       "      <td>Bright</td>\n",
       "      <td>2</td>\n",
       "    </tr>\n",
       "    <tr>\n",
       "      <th>9</th>\n",
       "      <td>Solid</td>\n",
       "      <td>2</td>\n",
       "    </tr>\n",
       "  </tbody>\n",
       "</table>\n",
       "</div>"
      ],
      "text/plain": [
       "                      title  count\n",
       "0                Five Stars    184\n",
       "1                Four Stars     35\n",
       "2                  One Star     18\n",
       "3               Three Stars     14\n",
       "4                 Two Stars      6\n",
       "5                     great      2\n",
       "6   Great little flashlight      2\n",
       "7  Rockbirds LED Flashlight      2\n",
       "8                    Bright      2\n",
       "9                     Solid      2"
      ]
     },
     "execution_count": 20,
     "metadata": {},
     "output_type": "execute_result"
    }
   ],
   "source": [
    "review_title = pd.DataFrame(df.review_title.value_counts().head(10))\n",
    "review_title.reset_index(level=0, inplace = True)\n",
    "review_title.columns = ['title', 'count']\n",
    "review_title"
   ]
  },
  {
   "cell_type": "code",
   "execution_count": 21,
   "metadata": {},
   "outputs": [
    {
     "name": "stderr",
     "output_type": "stream",
     "text": [
      "/Users/mani/anaconda3/lib/python3.6/site-packages/seaborn/categorical.py:1460: FutureWarning: remove_na is deprecated and is a private function. Do not use.\n",
      "  stat_data = remove_na(group_data)\n"
     ]
    },
    {
     "data": {
      "image/png": "[encoded data removed]",
      "text/plain": [
       "<matplotlib.figure.Figure at 0x112df3c50>"
      ]
     },
     "metadata": {},
     "output_type": "display_data"
    }
   ],
   "source": [
    "f, ax = plt.subplots(figsize=(15, 8))\n",
    "\n",
    "sns.barplot(x=\"title\", y=\"count\", data=review_title,\n",
    "            label=\"Title Duplicates\", color=\"turquoise\",ax = ax)\n",
    "plt.show()"
   ]
  },
  {
   "cell_type": "markdown",
   "metadata": {},
   "source": [
    "- User id"
   ]
  },
  {
   "cell_type": "code",
   "execution_count": 22,
   "metadata": {},
   "outputs": [
    {
     "data": {
      "text/plain": [
       "742"
      ]
     },
     "execution_count": 22,
     "metadata": {},
     "output_type": "execute_result"
    }
   ],
   "source": [
    "len(df.user_id.unique())"
   ]
  },
  {
   "cell_type": "markdown",
   "metadata": {},
   "source": [
    "- User name"
   ]
  },
  {
   "cell_type": "code",
   "execution_count": 23,
   "metadata": {},
   "outputs": [
    {
     "data": {
      "text/plain": [
       "645"
      ]
     },
     "execution_count": 23,
     "metadata": {},
     "output_type": "execute_result"
    }
   ],
   "source": [
    "len(df.user_name.unique())"
   ]
  },
  {
   "cell_type": "code",
   "execution_count": 24,
   "metadata": {},
   "outputs": [
    {
     "data": {
      "text/html": [
       "<div>\n",
       "<style scoped>\n",
       "    .dataframe tbody tr th:only-of-type {\n",
       "        vertical-align: middle;\n",
       "    }\n",
       "\n",
       "    .dataframe tbody tr th {\n",
       "        vertical-align: top;\n",
       "    }\n",
       "\n",
       "    .dataframe thead th {\n",
       "        text-align: right;\n",
       "    }\n",
       "</style>\n",
       "<table border=\"1\" class=\"dataframe\">\n",
       "  <thead>\n",
       "    <tr style=\"text-align: right;\">\n",
       "      <th></th>\n",
       "      <th>name</th>\n",
       "      <th>count</th>\n",
       "    </tr>\n",
       "  </thead>\n",
       "  <tbody>\n",
       "    <tr>\n",
       "      <th>0</th>\n",
       "      <td>Amazon Customer</td>\n",
       "      <td>80</td>\n",
       "    </tr>\n",
       "    <tr>\n",
       "      <th>1</th>\n",
       "      <td>Eric</td>\n",
       "      <td>4</td>\n",
       "    </tr>\n",
       "    <tr>\n",
       "      <th>2</th>\n",
       "      <td>Chris</td>\n",
       "      <td>4</td>\n",
       "    </tr>\n",
       "    <tr>\n",
       "      <th>3</th>\n",
       "      <td>Cliente de Amazon</td>\n",
       "      <td>3</td>\n",
       "    </tr>\n",
       "    <tr>\n",
       "      <th>4</th>\n",
       "      <td>Mike</td>\n",
       "      <td>3</td>\n",
       "    </tr>\n",
       "    <tr>\n",
       "      <th>5</th>\n",
       "      <td>Happy</td>\n",
       "      <td>2</td>\n",
       "    </tr>\n",
       "    <tr>\n",
       "      <th>6</th>\n",
       "      <td>B</td>\n",
       "      <td>2</td>\n",
       "    </tr>\n",
       "    <tr>\n",
       "      <th>7</th>\n",
       "      <td>Robert</td>\n",
       "      <td>2</td>\n",
       "    </tr>\n",
       "    <tr>\n",
       "      <th>8</th>\n",
       "      <td>Matthew</td>\n",
       "      <td>2</td>\n",
       "    </tr>\n",
       "    <tr>\n",
       "      <th>9</th>\n",
       "      <td>Aaron</td>\n",
       "      <td>2</td>\n",
       "    </tr>\n",
       "  </tbody>\n",
       "</table>\n",
       "</div>"
      ],
      "text/plain": [
       "                name  count\n",
       "0    Amazon Customer     80\n",
       "1               Eric      4\n",
       "2              Chris      4\n",
       "3  Cliente de Amazon      3\n",
       "4               Mike      3\n",
       "5              Happy      2\n",
       "6                  B      2\n",
       "7             Robert      2\n",
       "8            Matthew      2\n",
       "9              Aaron      2"
      ]
     },
     "execution_count": 24,
     "metadata": {},
     "output_type": "execute_result"
    }
   ],
   "source": [
    "user_name = pd.DataFrame(df.user_name.value_counts().head(10))\n",
    "user_name.reset_index(level=0, inplace = True)\n",
    "user_name.columns = ['name', 'count']\n",
    "user_name"
   ]
  },
  {
   "cell_type": "code",
   "execution_count": 25,
   "metadata": {},
   "outputs": [
    {
     "name": "stderr",
     "output_type": "stream",
     "text": [
      "/Users/mani/anaconda3/lib/python3.6/site-packages/seaborn/categorical.py:1460: FutureWarning: remove_na is deprecated and is a private function. Do not use.\n",
      "  stat_data = remove_na(group_data)\n"
     ]
    },
    {
     "data": {
      "image/png": "[encoded data removed]",
      "text/plain": [
       "<matplotlib.figure.Figure at 0x11862aba8>"
      ]
     },
     "metadata": {},
     "output_type": "display_data"
    }
   ],
   "source": [
    "f, ax = plt.subplots(figsize=(15, 8))\n",
    "\n",
    "sns.barplot(x=\"name\", y=\"count\", data=user_name,\n",
    "            label=\"Title Duplicates\", color=\"turquoise\",ax = ax)\n",
    "plt.show()"
   ]
  },
  {
   "cell_type": "markdown",
   "metadata": {},
   "source": [
    "- product_pattern/rating"
   ]
  },
  {
   "cell_type": "code",
   "execution_count": 26,
   "metadata": {},
   "outputs": [
    {
     "data": {
      "image/png": "[encoded data removed]",
      "text/plain": [
       "<matplotlib.figure.Figure at 0x1186b0fd0>"
      ]
     },
     "metadata": {},
     "output_type": "display_data"
    }
   ],
   "source": [
    "plt.figure(figsize = (8, 8))\n",
    "plt.title('product pattern density plot')\n",
    "sns.stripplot(x=df.product_pattern, y=df.review_rating, data=df, jitter=True)\n",
    "plt.show()"
   ]
  },
  {
   "cell_type": "markdown",
   "metadata": {},
   "source": [
    "- time/rating"
   ]
  },
  {
   "cell_type": "code",
   "execution_count": 27,
   "metadata": {},
   "outputs": [],
   "source": [
    "time_rating = pd.DataFrame({'time':df.review_date, 'rating':df.review_rating})"
   ]
  },
  {
   "cell_type": "code",
   "execution_count": 28,
   "metadata": {},
   "outputs": [
    {
     "data": {
      "image/png": "[encoded data removed]",
      "text/plain": [
       "<matplotlib.figure.Figure at 0x118718a20>"
      ]
     },
     "metadata": {},
     "output_type": "display_data"
    }
   ],
   "source": [
    "f, ax = plt.subplots(figsize=(15, 10))\n",
    "plt.title('time/rating')\n",
    "sns.stripplot(x='time', y='rating', data=time_rating, jitter=True, ax=ax)\n",
    "plt.show()"
   ]
  },
  {
   "cell_type": "markdown",
   "metadata": {},
   "source": [
    "### EDA Summary\n",
    "There are 8 columns in the dataset and 742 observations in total.\n",
    "- product_pattern: the product format 2 pack, 4 pack and 6 pack\n",
    "- review_date: after 2017-01-01\n",
    "- review_id: each review only have 1 id\n",
    "- review rating: 5 - (473 counts), 4 - (104 counts), 1 - (70 counts), 3 - (49 counts), 2 - (48 counts) \n",
    "- review text: Simply check that the duplicates only occurred in short reviews\n",
    "- review title: 257 customers used stars number to represent the title of the review\n",
    "- user_id: there are not duplicates\n",
    "- user_name: 80 customers use 'Amazon Customer' as their user name\n",
    "\n",
    "product pattern/rating  \n",
    "time/rating"
   ]
  },
  {
   "cell_type": "markdown",
   "metadata": {},
   "source": [
    "# Objectives - Machine Learning Algorithms\n",
    "- Extract customer's evaluation of different topics about the product from review text\n",
    "        - topics customer cared about (NLP)\n",
    "        - convert their text evaluation into numerical data(weighted, sentiment analysis)\n",
    "- Predict their rating based on the weighted evaluation (try:random forest, hierarchical clustering, svm)\n",
    "- Test the predicted rating and observed rating"
   ]
  },
  {
   "cell_type": "markdown",
   "metadata": {},
   "source": [
    "### step1: customer's evaluation of different topics about the product from review text\n",
    "#### 1.1: which topics customer cared about?"
   ]
  },
  {
   "cell_type": "code",
   "execution_count": null,
   "metadata": {},
   "outputs": [],
   "source": []
  },
  {
   "cell_type": "code",
   "execution_count": null,
   "metadata": {},
   "outputs": [],
   "source": []
  },
  {
   "cell_type": "code",
   "execution_count": null,
   "metadata": {},
   "outputs": [],
   "source": []
  },
  {
   "cell_type": "code",
   "execution_count": null,
   "metadata": {},
   "outputs": [],
   "source": []
  },
  {
   "cell_type": "code",
   "execution_count": null,
   "metadata": {},
   "outputs": [],
   "source": []
  },
  {
   "cell_type": "code",
   "execution_count": null,
   "metadata": {},
   "outputs": [],
   "source": []
  },
  {
   "cell_type": "code",
   "execution_count": null,
   "metadata": {},
   "outputs": [],
   "source": []
  }
 ],
 "metadata": {
  "kernelspec": {
   "display_name": "Python 3",
   "language": "python",
   "name": "python3"
  },
  "language_info": {
   "codemirror_mode": {
    "name": "ipython",
    "version": 3
   },
   "file_extension": ".py",
   "mimetype": "text/x-python",
   "name": "python",
   "nbconvert_exporter": "python",
   "pygments_lexer": "ipython3",
   "version": "3.6.3"
  }
 },
 "nbformat": 4,
 "nbformat_minor": 1
}
