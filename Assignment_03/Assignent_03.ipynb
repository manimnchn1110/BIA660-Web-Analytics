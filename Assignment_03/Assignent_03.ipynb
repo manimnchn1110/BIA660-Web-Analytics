{
 "cells": [
  {
   "cell_type": "code",
   "execution_count": 1,
   "metadata": {},
   "outputs": [],
   "source": [
    "import numpy as np \n",
    "import pandas as pd \n",
    "import matplotlib.pyplot as plt\n",
    "import seaborn as sns\n",
    "import matplotlib\n",
    "from datetime import datetime\n",
    "import bs4\n",
    "import pandas as pd\n",
    "import spacy\n",
    "from gensim.models.phrases import Phrases, Phraser\n",
    "from spacy.pipeline import Pipe"
   ]
  },
  {
   "cell_type": "markdown",
   "metadata": {},
   "source": [
    "# Data Processing"
   ]
  },
  {
   "cell_type": "code",
   "execution_count": 2,
   "metadata": {},
   "outputs": [],
   "source": [
    "df = pd.read_json('reviews.json')"
   ]
  },
  {
   "cell_type": "code",
   "execution_count": 3,
   "metadata": {},
   "outputs": [
    {
     "data": {
      "text/html": [
       "<div>\n",
       "<style scoped>\n",
       "    .dataframe tbody tr th:only-of-type {\n",
       "        vertical-align: middle;\n",
       "    }\n",
       "\n",
       "    .dataframe tbody tr th {\n",
       "        vertical-align: top;\n",
       "    }\n",
       "\n",
       "    .dataframe thead th {\n",
       "        text-align: right;\n",
       "    }\n",
       "</style>\n",
       "<table border=\"1\" class=\"dataframe\">\n",
       "  <thead>\n",
       "    <tr style=\"text-align: right;\">\n",
       "      <th></th>\n",
       "      <th>product_pattern</th>\n",
       "      <th>review_date</th>\n",
       "      <th>review_id</th>\n",
       "      <th>review_rating</th>\n",
       "      <th>review_text</th>\n",
       "      <th>review_title</th>\n",
       "      <th>user_id</th>\n",
       "      <th>user_name</th>\n",
       "    </tr>\n",
       "  </thead>\n",
       "  <tbody>\n",
       "    <tr>\n",
       "      <th>0</th>\n",
       "      <td>Pattern: LED Flashlight 2P</td>\n",
       "      <td>2017-03-04</td>\n",
       "      <td>R3FS49IG7WSV3T</td>\n",
       "      <td>5</td>\n",
       "      <td>These Rockbirds LED Flashlights I bought came...</td>\n",
       "      <td>Quality made and a fantastic deal!  Let me sho...</td>\n",
       "      <td>AH324LU7UFITEQ77IETSUVLSCGEQ</td>\n",
       "      <td>GardenGuy</td>\n",
       "    </tr>\n",
       "    <tr>\n",
       "      <th>1</th>\n",
       "      <td>Pattern: LED Flashlight 2P</td>\n",
       "      <td>2018-02-10</td>\n",
       "      <td>RWJ5AI1HQ4RK9</td>\n",
       "      <td>4</td>\n",
       "      <td>Given my many prior, poor experiences with sev...</td>\n",
       "      <td>Miniature in size &amp; price, but big on light ou...</td>\n",
       "      <td>AEIL7YNQKHDFB4QHB3MSR262LNYQ</td>\n",
       "      <td>NSB</td>\n",
       "    </tr>\n",
       "    <tr>\n",
       "      <th>10</th>\n",
       "      <td>Pattern: LED Flashlight 2P</td>\n",
       "      <td>2017-04-27</td>\n",
       "      <td>R1SJEDRGD0ZI4P</td>\n",
       "      <td>5</td>\n",
       "      <td>Great deal for a pair of mini flashlights.  Ve...</td>\n",
       "      <td>love these mini flashlights</td>\n",
       "      <td>AGE4RTB36XFI6KKPR3G5AZMDDI3A</td>\n",
       "      <td>paintednightsky</td>\n",
       "    </tr>\n",
       "    <tr>\n",
       "      <th>100</th>\n",
       "      <td>Pattern: LED Flashlight 2P</td>\n",
       "      <td>2017-09-25</td>\n",
       "      <td>R15ICB0LYJIK9B</td>\n",
       "      <td>5</td>\n",
       "      <td>Nice, bright little flashlight for the money. ...</td>\n",
       "      <td>Good value</td>\n",
       "      <td>AFFTSHTP3GGXUMIRWYLD6F4MH6XQ</td>\n",
       "      <td>A. Collins</td>\n",
       "    </tr>\n",
       "    <tr>\n",
       "      <th>101</th>\n",
       "      <td>Pattern: 4 pack</td>\n",
       "      <td>2018-02-06</td>\n",
       "      <td>R341U8KZCCF6ZA</td>\n",
       "      <td>5</td>\n",
       "      <td>I loved these Rockbird flashlights. I already ...</td>\n",
       "      <td>Great flashlights for the price.</td>\n",
       "      <td>AHLWCEHGHDXTLTUITWFSN2ZT66SA</td>\n",
       "      <td>Cris0911</td>\n",
       "    </tr>\n",
       "  </tbody>\n",
       "</table>\n",
       "</div>"
      ],
      "text/plain": [
       "                product_pattern review_date       review_id  review_rating  \\\n",
       "0    Pattern: LED Flashlight 2P  2017-03-04  R3FS49IG7WSV3T              5   \n",
       "1    Pattern: LED Flashlight 2P  2018-02-10   RWJ5AI1HQ4RK9              4   \n",
       "10   Pattern: LED Flashlight 2P  2017-04-27  R1SJEDRGD0ZI4P              5   \n",
       "100  Pattern: LED Flashlight 2P  2017-09-25  R15ICB0LYJIK9B              5   \n",
       "101             Pattern: 4 pack  2018-02-06  R341U8KZCCF6ZA              5   \n",
       "\n",
       "                                           review_text  \\\n",
       "0     These Rockbirds LED Flashlights I bought came...   \n",
       "1    Given my many prior, poor experiences with sev...   \n",
       "10   Great deal for a pair of mini flashlights.  Ve...   \n",
       "100  Nice, bright little flashlight for the money. ...   \n",
       "101  I loved these Rockbird flashlights. I already ...   \n",
       "\n",
       "                                          review_title  \\\n",
       "0    Quality made and a fantastic deal!  Let me sho...   \n",
       "1    Miniature in size & price, but big on light ou...   \n",
       "10                         love these mini flashlights   \n",
       "100                                         Good value   \n",
       "101                   Great flashlights for the price.   \n",
       "\n",
       "                          user_id        user_name  \n",
       "0    AH324LU7UFITEQ77IETSUVLSCGEQ        GardenGuy  \n",
       "1    AEIL7YNQKHDFB4QHB3MSR262LNYQ              NSB  \n",
       "10   AGE4RTB36XFI6KKPR3G5AZMDDI3A  paintednightsky  \n",
       "100  AFFTSHTP3GGXUMIRWYLD6F4MH6XQ       A. Collins  \n",
       "101  AHLWCEHGHDXTLTUITWFSN2ZT66SA         Cris0911  "
      ]
     },
     "execution_count": 3,
     "metadata": {},
     "output_type": "execute_result"
    }
   ],
   "source": [
    "df.head()"
   ]
  },
  {
   "cell_type": "code",
   "execution_count": 4,
   "metadata": {},
   "outputs": [],
   "source": [
    "df = df.reset_index(drop=True) "
   ]
  },
  {
   "cell_type": "code",
   "execution_count": 5,
   "metadata": {},
   "outputs": [
    {
     "data": {
      "text/html": [
       "<div>\n",
       "<style scoped>\n",
       "    .dataframe tbody tr th:only-of-type {\n",
       "        vertical-align: middle;\n",
       "    }\n",
       "\n",
       "    .dataframe tbody tr th {\n",
       "        vertical-align: top;\n",
       "    }\n",
       "\n",
       "    .dataframe thead th {\n",
       "        text-align: right;\n",
       "    }\n",
       "</style>\n",
       "<table border=\"1\" class=\"dataframe\">\n",
       "  <thead>\n",
       "    <tr style=\"text-align: right;\">\n",
       "      <th></th>\n",
       "      <th>product_pattern</th>\n",
       "      <th>review_date</th>\n",
       "      <th>review_id</th>\n",
       "      <th>review_rating</th>\n",
       "      <th>review_text</th>\n",
       "      <th>review_title</th>\n",
       "      <th>user_id</th>\n",
       "      <th>user_name</th>\n",
       "    </tr>\n",
       "  </thead>\n",
       "  <tbody>\n",
       "    <tr>\n",
       "      <th>0</th>\n",
       "      <td>Pattern: LED Flashlight 2P</td>\n",
       "      <td>2017-03-04</td>\n",
       "      <td>R3FS49IG7WSV3T</td>\n",
       "      <td>5</td>\n",
       "      <td>These Rockbirds LED Flashlights I bought came...</td>\n",
       "      <td>Quality made and a fantastic deal!  Let me sho...</td>\n",
       "      <td>AH324LU7UFITEQ77IETSUVLSCGEQ</td>\n",
       "      <td>GardenGuy</td>\n",
       "    </tr>\n",
       "    <tr>\n",
       "      <th>1</th>\n",
       "      <td>Pattern: LED Flashlight 2P</td>\n",
       "      <td>2018-02-10</td>\n",
       "      <td>RWJ5AI1HQ4RK9</td>\n",
       "      <td>4</td>\n",
       "      <td>Given my many prior, poor experiences with sev...</td>\n",
       "      <td>Miniature in size &amp; price, but big on light ou...</td>\n",
       "      <td>AEIL7YNQKHDFB4QHB3MSR262LNYQ</td>\n",
       "      <td>NSB</td>\n",
       "    </tr>\n",
       "    <tr>\n",
       "      <th>2</th>\n",
       "      <td>Pattern: LED Flashlight 2P</td>\n",
       "      <td>2017-04-27</td>\n",
       "      <td>R1SJEDRGD0ZI4P</td>\n",
       "      <td>5</td>\n",
       "      <td>Great deal for a pair of mini flashlights.  Ve...</td>\n",
       "      <td>love these mini flashlights</td>\n",
       "      <td>AGE4RTB36XFI6KKPR3G5AZMDDI3A</td>\n",
       "      <td>paintednightsky</td>\n",
       "    </tr>\n",
       "    <tr>\n",
       "      <th>3</th>\n",
       "      <td>Pattern: LED Flashlight 2P</td>\n",
       "      <td>2017-09-25</td>\n",
       "      <td>R15ICB0LYJIK9B</td>\n",
       "      <td>5</td>\n",
       "      <td>Nice, bright little flashlight for the money. ...</td>\n",
       "      <td>Good value</td>\n",
       "      <td>AFFTSHTP3GGXUMIRWYLD6F4MH6XQ</td>\n",
       "      <td>A. Collins</td>\n",
       "    </tr>\n",
       "    <tr>\n",
       "      <th>4</th>\n",
       "      <td>Pattern: 4 pack</td>\n",
       "      <td>2018-02-06</td>\n",
       "      <td>R341U8KZCCF6ZA</td>\n",
       "      <td>5</td>\n",
       "      <td>I loved these Rockbird flashlights. I already ...</td>\n",
       "      <td>Great flashlights for the price.</td>\n",
       "      <td>AHLWCEHGHDXTLTUITWFSN2ZT66SA</td>\n",
       "      <td>Cris0911</td>\n",
       "    </tr>\n",
       "  </tbody>\n",
       "</table>\n",
       "</div>"
      ],
      "text/plain": [
       "              product_pattern review_date       review_id  review_rating  \\\n",
       "0  Pattern: LED Flashlight 2P  2017-03-04  R3FS49IG7WSV3T              5   \n",
       "1  Pattern: LED Flashlight 2P  2018-02-10   RWJ5AI1HQ4RK9              4   \n",
       "2  Pattern: LED Flashlight 2P  2017-04-27  R1SJEDRGD0ZI4P              5   \n",
       "3  Pattern: LED Flashlight 2P  2017-09-25  R15ICB0LYJIK9B              5   \n",
       "4             Pattern: 4 pack  2018-02-06  R341U8KZCCF6ZA              5   \n",
       "\n",
       "                                         review_text  \\\n",
       "0   These Rockbirds LED Flashlights I bought came...   \n",
       "1  Given my many prior, poor experiences with sev...   \n",
       "2  Great deal for a pair of mini flashlights.  Ve...   \n",
       "3  Nice, bright little flashlight for the money. ...   \n",
       "4  I loved these Rockbird flashlights. I already ...   \n",
       "\n",
       "                                        review_title  \\\n",
       "0  Quality made and a fantastic deal!  Let me sho...   \n",
       "1  Miniature in size & price, but big on light ou...   \n",
       "2                        love these mini flashlights   \n",
       "3                                         Good value   \n",
       "4                   Great flashlights for the price.   \n",
       "\n",
       "                        user_id        user_name  \n",
       "0  AH324LU7UFITEQ77IETSUVLSCGEQ        GardenGuy  \n",
       "1  AEIL7YNQKHDFB4QHB3MSR262LNYQ              NSB  \n",
       "2  AGE4RTB36XFI6KKPR3G5AZMDDI3A  paintednightsky  \n",
       "3  AFFTSHTP3GGXUMIRWYLD6F4MH6XQ       A. Collins  \n",
       "4  AHLWCEHGHDXTLTUITWFSN2ZT66SA         Cris0911  "
      ]
     },
     "execution_count": 5,
     "metadata": {},
     "output_type": "execute_result"
    }
   ],
   "source": [
    "df.head()"
   ]
  },
  {
   "cell_type": "markdown",
   "metadata": {},
   "source": [
    "- product_pattern: different pack of LED lighting\n",
    "- review_date: the date author published the review\n",
    "- review_id: id for each review\n",
    "- review_rating: rating(1 to 5 scores)\n",
    "- review_text: body of reviews\n",
    "- review_title: tiltle of reviews\n",
    "- user_id: id for each author\n",
    "- user_name: name for each author"
   ]
  },
  {
   "cell_type": "code",
   "execution_count": 6,
   "metadata": {},
   "outputs": [
    {
     "data": {
      "text/plain": [
       "product_pattern    742\n",
       "review_date        742\n",
       "review_id          742\n",
       "review_rating      742\n",
       "review_text        742\n",
       "review_title       742\n",
       "user_id            742\n",
       "user_name          742\n",
       "dtype: int64"
      ]
     },
     "execution_count": 6,
     "metadata": {},
     "output_type": "execute_result"
    }
   ],
   "source": [
    "df.count()"
   ]
  },
  {
   "cell_type": "markdown",
   "metadata": {},
   "source": [
    "- Total observations: 742"
   ]
  },
  {
   "cell_type": "code",
   "execution_count": 7,
   "metadata": {},
   "outputs": [
    {
     "data": {
      "text/plain": [
       "False"
      ]
     },
     "execution_count": 7,
     "metadata": {},
     "output_type": "execute_result"
    }
   ],
   "source": [
    "df.isnull().values.any()"
   ]
  },
  {
   "cell_type": "markdown",
   "metadata": {},
   "source": [
    "- all of them are valid"
   ]
  },
  {
   "cell_type": "code",
   "execution_count": 8,
   "metadata": {},
   "outputs": [
    {
     "data": {
      "text/plain": [
       "product_pattern      3\n",
       "review_date        313\n",
       "review_id          742\n",
       "review_rating        5\n",
       "review_text        732\n",
       "review_title       480\n",
       "user_id            742\n",
       "user_name          645\n",
       "dtype: int64"
      ]
     },
     "execution_count": 8,
     "metadata": {},
     "output_type": "execute_result"
    }
   ],
   "source": [
    "df.nunique()"
   ]
  },
  {
   "cell_type": "code",
   "execution_count": 9,
   "metadata": {},
   "outputs": [
    {
     "name": "stdout",
     "output_type": "stream",
     "text": [
      "<class 'pandas.core.frame.DataFrame'>\n",
      "RangeIndex: 742 entries, 0 to 741\n",
      "Data columns (total 8 columns):\n",
      "product_pattern    742 non-null object\n",
      "review_date        742 non-null object\n",
      "review_id          742 non-null object\n",
      "review_rating      742 non-null int64\n",
      "review_text        742 non-null object\n",
      "review_title       742 non-null object\n",
      "user_id            742 non-null object\n",
      "user_name          742 non-null object\n",
      "dtypes: int64(1), object(7)\n",
      "memory usage: 46.5+ KB\n"
     ]
    }
   ],
   "source": [
    "df.info()"
   ]
  },
  {
   "cell_type": "markdown",
   "metadata": {},
   "source": [
    "- product_pattern"
   ]
  },
  {
   "cell_type": "code",
   "execution_count": 10,
   "metadata": {},
   "outputs": [
    {
     "data": {
      "text/plain": [
       "array(['Pattern: LED Flashlight 2P', 'Pattern: 4 pack', 'Pattern: 6 pack'], dtype=object)"
      ]
     },
     "execution_count": 10,
     "metadata": {},
     "output_type": "execute_result"
    }
   ],
   "source": [
    "df.product_pattern.unique()"
   ]
  },
  {
   "cell_type": "code",
   "execution_count": 11,
   "metadata": {},
   "outputs": [],
   "source": [
    "df = df.replace({'Pattern: LED Flashlight 2P':'2 pack',\n",
    "         'Pattern: 4 pack':'4 pack', \n",
    "         'Pattern: 6 pack':'6 pack'})"
   ]
  },
  {
   "cell_type": "code",
   "execution_count": 12,
   "metadata": {},
   "outputs": [
    {
     "data": {
      "text/html": [
       "<div>\n",
       "<style scoped>\n",
       "    .dataframe tbody tr th:only-of-type {\n",
       "        vertical-align: middle;\n",
       "    }\n",
       "\n",
       "    .dataframe tbody tr th {\n",
       "        vertical-align: top;\n",
       "    }\n",
       "\n",
       "    .dataframe thead th {\n",
       "        text-align: right;\n",
       "    }\n",
       "</style>\n",
       "<table border=\"1\" class=\"dataframe\">\n",
       "  <thead>\n",
       "    <tr style=\"text-align: right;\">\n",
       "      <th></th>\n",
       "      <th>product_pattern</th>\n",
       "      <th>review_date</th>\n",
       "      <th>review_id</th>\n",
       "      <th>review_rating</th>\n",
       "      <th>review_text</th>\n",
       "      <th>review_title</th>\n",
       "      <th>user_id</th>\n",
       "      <th>user_name</th>\n",
       "    </tr>\n",
       "  </thead>\n",
       "  <tbody>\n",
       "    <tr>\n",
       "      <th>0</th>\n",
       "      <td>2 pack</td>\n",
       "      <td>2017-03-04</td>\n",
       "      <td>R3FS49IG7WSV3T</td>\n",
       "      <td>5</td>\n",
       "      <td>These Rockbirds LED Flashlights I bought came...</td>\n",
       "      <td>Quality made and a fantastic deal!  Let me sho...</td>\n",
       "      <td>AH324LU7UFITEQ77IETSUVLSCGEQ</td>\n",
       "      <td>GardenGuy</td>\n",
       "    </tr>\n",
       "    <tr>\n",
       "      <th>1</th>\n",
       "      <td>2 pack</td>\n",
       "      <td>2018-02-10</td>\n",
       "      <td>RWJ5AI1HQ4RK9</td>\n",
       "      <td>4</td>\n",
       "      <td>Given my many prior, poor experiences with sev...</td>\n",
       "      <td>Miniature in size &amp; price, but big on light ou...</td>\n",
       "      <td>AEIL7YNQKHDFB4QHB3MSR262LNYQ</td>\n",
       "      <td>NSB</td>\n",
       "    </tr>\n",
       "    <tr>\n",
       "      <th>2</th>\n",
       "      <td>2 pack</td>\n",
       "      <td>2017-04-27</td>\n",
       "      <td>R1SJEDRGD0ZI4P</td>\n",
       "      <td>5</td>\n",
       "      <td>Great deal for a pair of mini flashlights.  Ve...</td>\n",
       "      <td>love these mini flashlights</td>\n",
       "      <td>AGE4RTB36XFI6KKPR3G5AZMDDI3A</td>\n",
       "      <td>paintednightsky</td>\n",
       "    </tr>\n",
       "    <tr>\n",
       "      <th>3</th>\n",
       "      <td>2 pack</td>\n",
       "      <td>2017-09-25</td>\n",
       "      <td>R15ICB0LYJIK9B</td>\n",
       "      <td>5</td>\n",
       "      <td>Nice, bright little flashlight for the money. ...</td>\n",
       "      <td>Good value</td>\n",
       "      <td>AFFTSHTP3GGXUMIRWYLD6F4MH6XQ</td>\n",
       "      <td>A. Collins</td>\n",
       "    </tr>\n",
       "    <tr>\n",
       "      <th>4</th>\n",
       "      <td>4 pack</td>\n",
       "      <td>2018-02-06</td>\n",
       "      <td>R341U8KZCCF6ZA</td>\n",
       "      <td>5</td>\n",
       "      <td>I loved these Rockbird flashlights. I already ...</td>\n",
       "      <td>Great flashlights for the price.</td>\n",
       "      <td>AHLWCEHGHDXTLTUITWFSN2ZT66SA</td>\n",
       "      <td>Cris0911</td>\n",
       "    </tr>\n",
       "  </tbody>\n",
       "</table>\n",
       "</div>"
      ],
      "text/plain": [
       "  product_pattern review_date       review_id  review_rating  \\\n",
       "0          2 pack  2017-03-04  R3FS49IG7WSV3T              5   \n",
       "1          2 pack  2018-02-10   RWJ5AI1HQ4RK9              4   \n",
       "2          2 pack  2017-04-27  R1SJEDRGD0ZI4P              5   \n",
       "3          2 pack  2017-09-25  R15ICB0LYJIK9B              5   \n",
       "4          4 pack  2018-02-06  R341U8KZCCF6ZA              5   \n",
       "\n",
       "                                         review_text  \\\n",
       "0   These Rockbirds LED Flashlights I bought came...   \n",
       "1  Given my many prior, poor experiences with sev...   \n",
       "2  Great deal for a pair of mini flashlights.  Ve...   \n",
       "3  Nice, bright little flashlight for the money. ...   \n",
       "4  I loved these Rockbird flashlights. I already ...   \n",
       "\n",
       "                                        review_title  \\\n",
       "0  Quality made and a fantastic deal!  Let me sho...   \n",
       "1  Miniature in size & price, but big on light ou...   \n",
       "2                        love these mini flashlights   \n",
       "3                                         Good value   \n",
       "4                   Great flashlights for the price.   \n",
       "\n",
       "                        user_id        user_name  \n",
       "0  AH324LU7UFITEQ77IETSUVLSCGEQ        GardenGuy  \n",
       "1  AEIL7YNQKHDFB4QHB3MSR262LNYQ              NSB  \n",
       "2  AGE4RTB36XFI6KKPR3G5AZMDDI3A  paintednightsky  \n",
       "3  AFFTSHTP3GGXUMIRWYLD6F4MH6XQ       A. Collins  \n",
       "4  AHLWCEHGHDXTLTUITWFSN2ZT66SA         Cris0911  "
      ]
     },
     "execution_count": 12,
     "metadata": {},
     "output_type": "execute_result"
    }
   ],
   "source": [
    "df.head()"
   ]
  },
  {
   "cell_type": "markdown",
   "metadata": {},
   "source": [
    "- review_date check"
   ]
  },
  {
   "cell_type": "code",
   "execution_count": 13,
   "metadata": {},
   "outputs": [
    {
     "data": {
      "text/html": [
       "<div>\n",
       "<style scoped>\n",
       "    .dataframe tbody tr th:only-of-type {\n",
       "        vertical-align: middle;\n",
       "    }\n",
       "\n",
       "    .dataframe tbody tr th {\n",
       "        vertical-align: top;\n",
       "    }\n",
       "\n",
       "    .dataframe thead th {\n",
       "        text-align: right;\n",
       "    }\n",
       "</style>\n",
       "<table border=\"1\" class=\"dataframe\">\n",
       "  <thead>\n",
       "    <tr style=\"text-align: right;\">\n",
       "      <th></th>\n",
       "      <th>product_pattern</th>\n",
       "      <th>review_date</th>\n",
       "      <th>review_id</th>\n",
       "      <th>review_rating</th>\n",
       "      <th>review_text</th>\n",
       "      <th>review_title</th>\n",
       "      <th>user_id</th>\n",
       "      <th>user_name</th>\n",
       "    </tr>\n",
       "  </thead>\n",
       "  <tbody>\n",
       "  </tbody>\n",
       "</table>\n",
       "</div>"
      ],
      "text/plain": [
       "Empty DataFrame\n",
       "Columns: [product_pattern, review_date, review_id, review_rating, review_text, review_title, user_id, user_name]\n",
       "Index: []"
      ]
     },
     "execution_count": 13,
     "metadata": {},
     "output_type": "execute_result"
    }
   ],
   "source": [
    "df[df.review_date < '2017-01-01']"
   ]
  },
  {
   "cell_type": "markdown",
   "metadata": {},
   "source": [
    "- review_id"
   ]
  },
  {
   "cell_type": "code",
   "execution_count": 14,
   "metadata": {},
   "outputs": [
    {
     "data": {
      "text/plain": [
       "742"
      ]
     },
     "execution_count": 14,
     "metadata": {},
     "output_type": "execute_result"
    }
   ],
   "source": [
    "len(df.review_id.unique())"
   ]
  },
  {
   "cell_type": "markdown",
   "metadata": {},
   "source": [
    "- review_rating"
   ]
  },
  {
   "cell_type": "code",
   "execution_count": 15,
   "metadata": {},
   "outputs": [
    {
     "data": {
      "text/plain": [
       "array([5, 4, 1, 3, 2])"
      ]
     },
     "execution_count": 15,
     "metadata": {},
     "output_type": "execute_result"
    }
   ],
   "source": [
    "df.review_rating.unique()"
   ]
  },
  {
   "cell_type": "code",
   "execution_count": 16,
   "metadata": {},
   "outputs": [
    {
     "data": {
      "text/html": [
       "<div>\n",
       "<style scoped>\n",
       "    .dataframe tbody tr th:only-of-type {\n",
       "        vertical-align: middle;\n",
       "    }\n",
       "\n",
       "    .dataframe tbody tr th {\n",
       "        vertical-align: top;\n",
       "    }\n",
       "\n",
       "    .dataframe thead th {\n",
       "        text-align: right;\n",
       "    }\n",
       "</style>\n",
       "<table border=\"1\" class=\"dataframe\">\n",
       "  <thead>\n",
       "    <tr style=\"text-align: right;\">\n",
       "      <th></th>\n",
       "      <th>rating</th>\n",
       "      <th>count</th>\n",
       "    </tr>\n",
       "  </thead>\n",
       "  <tbody>\n",
       "    <tr>\n",
       "      <th>0</th>\n",
       "      <td>5</td>\n",
       "      <td>473</td>\n",
       "    </tr>\n",
       "    <tr>\n",
       "      <th>1</th>\n",
       "      <td>4</td>\n",
       "      <td>104</td>\n",
       "    </tr>\n",
       "    <tr>\n",
       "      <th>2</th>\n",
       "      <td>1</td>\n",
       "      <td>70</td>\n",
       "    </tr>\n",
       "    <tr>\n",
       "      <th>3</th>\n",
       "      <td>3</td>\n",
       "      <td>49</td>\n",
       "    </tr>\n",
       "    <tr>\n",
       "      <th>4</th>\n",
       "      <td>2</td>\n",
       "      <td>46</td>\n",
       "    </tr>\n",
       "  </tbody>\n",
       "</table>\n",
       "</div>"
      ],
      "text/plain": [
       "   rating  count\n",
       "0       5    473\n",
       "1       4    104\n",
       "2       1     70\n",
       "3       3     49\n",
       "4       2     46"
      ]
     },
     "execution_count": 16,
     "metadata": {},
     "output_type": "execute_result"
    }
   ],
   "source": [
    "rating = pd.DataFrame(df.review_rating.value_counts().head(5))\n",
    "rating.reset_index(level=0, inplace = True)\n",
    "rating.columns=['rating', 'count']\n",
    "rating"
   ]
  },
  {
   "cell_type": "code",
   "execution_count": 17,
   "metadata": {},
   "outputs": [
    {
     "data": {
      "image/png": "[encoded data removed]",
      "text/plain": [
       "<matplotlib.figure.Figure at 0x1a175f86d8>"
      ]
     },
     "metadata": {},
     "output_type": "display_data"
    }
   ],
   "source": [
    "sns.distplot(df.review_rating, color = 'tomato')\n",
    "plt.show()"
   ]
  },
  {
   "cell_type": "markdown",
   "metadata": {},
   "source": [
    "- review_text"
   ]
  },
  {
   "cell_type": "code",
   "execution_count": 18,
   "metadata": {},
   "outputs": [
    {
     "data": {
      "text/plain": [
       "732"
      ]
     },
     "execution_count": 18,
     "metadata": {},
     "output_type": "execute_result"
    }
   ],
   "source": [
    "len(df.review_text.unique())"
   ]
  },
  {
   "cell_type": "code",
   "execution_count": 19,
   "metadata": {},
   "outputs": [],
   "source": [
    "review_text = pd.DataFrame(df.review_text.value_counts().head(10))\n",
    "review_text = pd.DataFrame(review_text.head(7))\n",
    "review_text.reset_index(level=0, inplace = True)\n",
    "review_text.columns = ['text', 'count']"
   ]
  },
  {
   "cell_type": "code",
   "execution_count": 20,
   "metadata": {},
   "outputs": [
    {
     "data": {
      "text/html": [
       "<div>\n",
       "<style scoped>\n",
       "    .dataframe tbody tr th:only-of-type {\n",
       "        vertical-align: middle;\n",
       "    }\n",
       "\n",
       "    .dataframe tbody tr th {\n",
       "        vertical-align: top;\n",
       "    }\n",
       "\n",
       "    .dataframe thead th {\n",
       "        text-align: right;\n",
       "    }\n",
       "</style>\n",
       "<table border=\"1\" class=\"dataframe\">\n",
       "  <thead>\n",
       "    <tr style=\"text-align: right;\">\n",
       "      <th></th>\n",
       "      <th>text</th>\n",
       "      <th>count</th>\n",
       "    </tr>\n",
       "  </thead>\n",
       "  <tbody>\n",
       "    <tr>\n",
       "      <th>0</th>\n",
       "      <td>Great product</td>\n",
       "      <td>4</td>\n",
       "    </tr>\n",
       "    <tr>\n",
       "      <th>1</th>\n",
       "      <td>Very bright and compact</td>\n",
       "      <td>3</td>\n",
       "    </tr>\n",
       "    <tr>\n",
       "      <th>2</th>\n",
       "      <td>Very good.</td>\n",
       "      <td>2</td>\n",
       "    </tr>\n",
       "    <tr>\n",
       "      <th>3</th>\n",
       "      <td>good</td>\n",
       "      <td>2</td>\n",
       "    </tr>\n",
       "    <tr>\n",
       "      <th>4</th>\n",
       "      <td>Perfect</td>\n",
       "      <td>2</td>\n",
       "    </tr>\n",
       "    <tr>\n",
       "      <th>5</th>\n",
       "      <td>perfect</td>\n",
       "      <td>2</td>\n",
       "    </tr>\n",
       "    <tr>\n",
       "      <th>6</th>\n",
       "      <td>very good</td>\n",
       "      <td>2</td>\n",
       "    </tr>\n",
       "  </tbody>\n",
       "</table>\n",
       "</div>"
      ],
      "text/plain": [
       "                      text  count\n",
       "0            Great product      4\n",
       "1  Very bright and compact      3\n",
       "2               Very good.      2\n",
       "3                     good      2\n",
       "4                  Perfect      2\n",
       "5                  perfect      2\n",
       "6                very good      2"
      ]
     },
     "execution_count": 20,
     "metadata": {},
     "output_type": "execute_result"
    }
   ],
   "source": [
    "review_text"
   ]
  },
  {
   "cell_type": "code",
   "execution_count": 21,
   "metadata": {},
   "outputs": [
    {
     "name": "stderr",
     "output_type": "stream",
     "text": [
      "/Users/mani/anaconda3/lib/python3.6/site-packages/seaborn/categorical.py:1460: FutureWarning: remove_na is deprecated and is a private function. Do not use.\n",
      "  stat_data = remove_na(group_data)\n"
     ]
    },
    {
     "data": {
      "image/png": "[encoded data removed]",
      "text/plain": [
       "<matplotlib.figure.Figure at 0x1a175f8e10>"
      ]
     },
     "metadata": {},
     "output_type": "display_data"
    }
   ],
   "source": [
    "f, ax = plt.subplots(figsize=(15, 8))\n",
    "\n",
    "sns.barplot(x=\"text\", y=\"count\", data=review_text,\n",
    "            label=\"Reviews Duplicate\", color=\"turquoise\",ax = ax)\n",
    "plt.show()"
   ]
  },
  {
   "cell_type": "markdown",
   "metadata": {},
   "source": [
    "- review title"
   ]
  },
  {
   "cell_type": "code",
   "execution_count": 22,
   "metadata": {},
   "outputs": [
    {
     "data": {
      "text/html": [
       "<div>\n",
       "<style scoped>\n",
       "    .dataframe tbody tr th:only-of-type {\n",
       "        vertical-align: middle;\n",
       "    }\n",
       "\n",
       "    .dataframe tbody tr th {\n",
       "        vertical-align: top;\n",
       "    }\n",
       "\n",
       "    .dataframe thead th {\n",
       "        text-align: right;\n",
       "    }\n",
       "</style>\n",
       "<table border=\"1\" class=\"dataframe\">\n",
       "  <thead>\n",
       "    <tr style=\"text-align: right;\">\n",
       "      <th></th>\n",
       "      <th>title</th>\n",
       "      <th>count</th>\n",
       "    </tr>\n",
       "  </thead>\n",
       "  <tbody>\n",
       "    <tr>\n",
       "      <th>0</th>\n",
       "      <td>Five Stars</td>\n",
       "      <td>184</td>\n",
       "    </tr>\n",
       "    <tr>\n",
       "      <th>1</th>\n",
       "      <td>Four Stars</td>\n",
       "      <td>35</td>\n",
       "    </tr>\n",
       "    <tr>\n",
       "      <th>2</th>\n",
       "      <td>One Star</td>\n",
       "      <td>18</td>\n",
       "    </tr>\n",
       "    <tr>\n",
       "      <th>3</th>\n",
       "      <td>Three Stars</td>\n",
       "      <td>14</td>\n",
       "    </tr>\n",
       "    <tr>\n",
       "      <th>4</th>\n",
       "      <td>Two Stars</td>\n",
       "      <td>6</td>\n",
       "    </tr>\n",
       "    <tr>\n",
       "      <th>5</th>\n",
       "      <td>great</td>\n",
       "      <td>2</td>\n",
       "    </tr>\n",
       "    <tr>\n",
       "      <th>6</th>\n",
       "      <td>Solid</td>\n",
       "      <td>2</td>\n",
       "    </tr>\n",
       "    <tr>\n",
       "      <th>7</th>\n",
       "      <td>Great little flashlight</td>\n",
       "      <td>2</td>\n",
       "    </tr>\n",
       "    <tr>\n",
       "      <th>8</th>\n",
       "      <td>Great deal</td>\n",
       "      <td>2</td>\n",
       "    </tr>\n",
       "    <tr>\n",
       "      <th>9</th>\n",
       "      <td>Rockbirds LED Flashlight</td>\n",
       "      <td>2</td>\n",
       "    </tr>\n",
       "  </tbody>\n",
       "</table>\n",
       "</div>"
      ],
      "text/plain": [
       "                      title  count\n",
       "0                Five Stars    184\n",
       "1                Four Stars     35\n",
       "2                  One Star     18\n",
       "3               Three Stars     14\n",
       "4                 Two Stars      6\n",
       "5                     great      2\n",
       "6                     Solid      2\n",
       "7   Great little flashlight      2\n",
       "8                Great deal      2\n",
       "9  Rockbirds LED Flashlight      2"
      ]
     },
     "execution_count": 22,
     "metadata": {},
     "output_type": "execute_result"
    }
   ],
   "source": [
    "review_title = pd.DataFrame(df.review_title.value_counts().head(10))\n",
    "review_title.reset_index(level=0, inplace = True)\n",
    "review_title.columns = ['title', 'count']\n",
    "review_title"
   ]
  },
  {
   "cell_type": "code",
   "execution_count": 23,
   "metadata": {},
   "outputs": [
    {
     "name": "stderr",
     "output_type": "stream",
     "text": [
      "/Users/mani/anaconda3/lib/python3.6/site-packages/seaborn/categorical.py:1460: FutureWarning: remove_na is deprecated and is a private function. Do not use.\n",
      "  stat_data = remove_na(group_data)\n"
     ]
    },
    {
     "data": {
      "image/png": "[encoded data removed]",
      "text/plain": [
       "<matplotlib.figure.Figure at 0x1a175c8da0>"
      ]
     },
     "metadata": {},
     "output_type": "display_data"
    }
   ],
   "source": [
    "f, ax = plt.subplots(figsize=(15, 8))\n",
    "\n",
    "sns.barplot(x=\"title\", y=\"count\", data=review_title,\n",
    "            label=\"Title Duplicates\", color=\"turquoise\",ax = ax)\n",
    "plt.show()"
   ]
  },
  {
   "cell_type": "markdown",
   "metadata": {},
   "source": [
    "- User id"
   ]
  },
  {
   "cell_type": "code",
   "execution_count": 24,
   "metadata": {},
   "outputs": [
    {
     "data": {
      "text/plain": [
       "742"
      ]
     },
     "execution_count": 24,
     "metadata": {},
     "output_type": "execute_result"
    }
   ],
   "source": [
    "len(df.user_id.unique())"
   ]
  },
  {
   "cell_type": "markdown",
   "metadata": {},
   "source": [
    "- User name"
   ]
  },
  {
   "cell_type": "code",
   "execution_count": 25,
   "metadata": {},
   "outputs": [
    {
     "data": {
      "text/plain": [
       "645"
      ]
     },
     "execution_count": 25,
     "metadata": {},
     "output_type": "execute_result"
    }
   ],
   "source": [
    "len(df.user_name.unique())"
   ]
  },
  {
   "cell_type": "code",
   "execution_count": 26,
   "metadata": {},
   "outputs": [
    {
     "data": {
      "text/html": [
       "<div>\n",
       "<style scoped>\n",
       "    .dataframe tbody tr th:only-of-type {\n",
       "        vertical-align: middle;\n",
       "    }\n",
       "\n",
       "    .dataframe tbody tr th {\n",
       "        vertical-align: top;\n",
       "    }\n",
       "\n",
       "    .dataframe thead th {\n",
       "        text-align: right;\n",
       "    }\n",
       "</style>\n",
       "<table border=\"1\" class=\"dataframe\">\n",
       "  <thead>\n",
       "    <tr style=\"text-align: right;\">\n",
       "      <th></th>\n",
       "      <th>name</th>\n",
       "      <th>count</th>\n",
       "    </tr>\n",
       "  </thead>\n",
       "  <tbody>\n",
       "    <tr>\n",
       "      <th>0</th>\n",
       "      <td>Amazon Customer</td>\n",
       "      <td>80</td>\n",
       "    </tr>\n",
       "    <tr>\n",
       "      <th>1</th>\n",
       "      <td>Eric</td>\n",
       "      <td>4</td>\n",
       "    </tr>\n",
       "    <tr>\n",
       "      <th>2</th>\n",
       "      <td>Chris</td>\n",
       "      <td>4</td>\n",
       "    </tr>\n",
       "    <tr>\n",
       "      <th>3</th>\n",
       "      <td>Cliente de Amazon</td>\n",
       "      <td>3</td>\n",
       "    </tr>\n",
       "    <tr>\n",
       "      <th>4</th>\n",
       "      <td>Mike</td>\n",
       "      <td>3</td>\n",
       "    </tr>\n",
       "    <tr>\n",
       "      <th>5</th>\n",
       "      <td>Happy</td>\n",
       "      <td>2</td>\n",
       "    </tr>\n",
       "    <tr>\n",
       "      <th>6</th>\n",
       "      <td>Aaron</td>\n",
       "      <td>2</td>\n",
       "    </tr>\n",
       "    <tr>\n",
       "      <th>7</th>\n",
       "      <td>John</td>\n",
       "      <td>2</td>\n",
       "    </tr>\n",
       "    <tr>\n",
       "      <th>8</th>\n",
       "      <td>B</td>\n",
       "      <td>2</td>\n",
       "    </tr>\n",
       "    <tr>\n",
       "      <th>9</th>\n",
       "      <td>george</td>\n",
       "      <td>2</td>\n",
       "    </tr>\n",
       "  </tbody>\n",
       "</table>\n",
       "</div>"
      ],
      "text/plain": [
       "                name  count\n",
       "0    Amazon Customer     80\n",
       "1               Eric      4\n",
       "2              Chris      4\n",
       "3  Cliente de Amazon      3\n",
       "4               Mike      3\n",
       "5              Happy      2\n",
       "6              Aaron      2\n",
       "7               John      2\n",
       "8                  B      2\n",
       "9             george      2"
      ]
     },
     "execution_count": 26,
     "metadata": {},
     "output_type": "execute_result"
    }
   ],
   "source": [
    "user_name = pd.DataFrame(df.user_name.value_counts().head(10))\n",
    "user_name.reset_index(level=0, inplace = True)\n",
    "user_name.columns = ['name', 'count']\n",
    "user_name"
   ]
  },
  {
   "cell_type": "code",
   "execution_count": 27,
   "metadata": {},
   "outputs": [
    {
     "name": "stderr",
     "output_type": "stream",
     "text": [
      "/Users/mani/anaconda3/lib/python3.6/site-packages/seaborn/categorical.py:1460: FutureWarning: remove_na is deprecated and is a private function. Do not use.\n",
      "  stat_data = remove_na(group_data)\n"
     ]
    },
    {
     "data": {
      "image/png": "[encoded data removed]",
      "text/plain": [
       "<matplotlib.figure.Figure at 0x1a17c3a2b0>"
      ]
     },
     "metadata": {},
     "output_type": "display_data"
    }
   ],
   "source": [
    "f, ax = plt.subplots(figsize=(15, 8))\n",
    "\n",
    "sns.barplot(x=\"name\", y=\"count\", data=user_name,\n",
    "            label=\"Title Duplicates\", color=\"turquoise\",ax = ax)\n",
    "plt.show()"
   ]
  },
  {
   "cell_type": "markdown",
   "metadata": {},
   "source": [
    "- product_pattern/rating"
   ]
  },
  {
   "cell_type": "code",
   "execution_count": 28,
   "metadata": {},
   "outputs": [
    {
     "data": {
      "image/png": "[encoded data removed]",
      "text/plain": [
       "<matplotlib.figure.Figure at 0x1a17e74320>"
      ]
     },
     "metadata": {},
     "output_type": "display_data"
    }
   ],
   "source": [
    "plt.figure(figsize = (15, 8))\n",
    "plt.title('product pattern density plot')\n",
    "sns.stripplot(x=df.product_pattern, y=df.review_rating, data=df, jitter=True)\n",
    "plt.show()"
   ]
  },
  {
   "cell_type": "markdown",
   "metadata": {},
   "source": [
    "- time/rating"
   ]
  },
  {
   "cell_type": "code",
   "execution_count": 29,
   "metadata": {},
   "outputs": [],
   "source": [
    "time_rating = pd.DataFrame({'time':df.review_date, 'rating':df.review_rating})"
   ]
  },
  {
   "cell_type": "code",
   "execution_count": 30,
   "metadata": {},
   "outputs": [
    {
     "data": {
      "image/png": "[encoded data removed]",
      "text/plain": [
       "<matplotlib.figure.Figure at 0x1a1829d518>"
      ]
     },
     "metadata": {},
     "output_type": "display_data"
    }
   ],
   "source": [
    "f, ax = plt.subplots(figsize=(15, 10))\n",
    "plt.title('time/rating')\n",
    "sns.stripplot(x='time', y='rating', data=time_rating, jitter=True, ax=ax)\n",
    "plt.show()"
   ]
  },
  {
   "cell_type": "markdown",
   "metadata": {},
   "source": [
    "### EDA Summary\n",
    "There are 8 columns in the dataset and 742 observations in total.\n",
    "- product_pattern: the product format 2 pack, 4 pack and 6 pack\n",
    "- review_date: after 2017-01-01\n",
    "- review_id: each review only have 1 id\n",
    "- review rating: 5 - (473 counts), 4 - (104 counts), 1 - (70 counts), 3 - (49 counts), 2 - (48 counts) \n",
    "- review text: Simply check that the duplicates only occurred in short reviews\n",
    "- review title: 257 customers used stars number to represent the title of the review\n",
    "- user_id: there are not duplicates\n",
    "- user_name: 80 customers use 'Amazon Customer' as their user name\n",
    "\n",
    "product pattern/rating  \n",
    "time/rating"
   ]
  },
  {
   "cell_type": "markdown",
   "metadata": {},
   "source": [
    "# customers evaluation of topics  from reviews to predict the rating of each review\n",
    "\n",
    "### Anticipated model:\n",
    "- independent variable: rating of review (1-5)\n",
    "\n",
    "- predictor:\n",
    "    - topic 1: (weighted 1-5)\n",
    "    - topic 2: (weighted 1-5)\n",
    "    - topic 3: (weighted 1-5)\n",
    "    - topic 4: (weighted 1-5)\n",
    "    - topic 5: (weighted 1-5)\n",
    "    \n",
    "### ML algorithms might be used:\n",
    "- random forest\n",
    "- clustering\n",
    "- svm\n",
    "- nn\n",
    "\n",
    "### Steps Plan:\n",
    "- Extract customer's evaluation of different topics about the product from review text\n",
    "        - popular 5 topics customer cared about\n",
    "        - convert text evaluation into weighted scores\n",
    "- Model fitting\n",
    "- Predicting and test the difference between predicted rating and observed rating"
   ]
  },
  {
   "cell_type": "markdown",
   "metadata": {},
   "source": [
    "### step1: customer's evaluation of different topics about the product from review text\n",
    "#### 1.1: topics customer cared about"
   ]
  },
  {
   "cell_type": "code",
   "execution_count": 31,
   "metadata": {},
   "outputs": [],
   "source": [
    "import numpy as np\n",
    "import nltk\n",
    "from nltk import sent_tokenize\n",
    "from nltk import word_tokenize\n",
    "import re\n",
    "import spacy\n",
    "nlp = spacy.load('en')\n",
    "from sklearn.feature_extraction.text import TfidfVectorizer\n",
    "from sklearn.decomposition import TruncatedSVD\n",
    "from sklearn.pipeline import Pipeline\n",
    "from sklearn.preprocessing import Normalizer\n",
    "from sklearn.feature_extraction import stop_words\n",
    "from gensim.models import Word2Vec\n",
    "from sklearn.preprocessing import normalize\n",
    "from sklearn.cluster import KMeans\n",
    "from sklearn.decomposition import LatentDirichletAllocation"
   ]
  },
  {
   "cell_type": "markdown",
   "metadata": {},
   "source": [
    "- collocation"
   ]
  },
  {
   "cell_type": "code",
   "execution_count": 32,
   "metadata": {},
   "outputs": [],
   "source": [
    "text = df.sample(742, random_state=222, replace=False).loc[:, 'review_text'].apply(lambda t: bs4.BeautifulSoup(t, 'lxml').get_text())"
   ]
  },
  {
   "cell_type": "code",
   "execution_count": 33,
   "metadata": {},
   "outputs": [
    {
     "name": "stdout",
     "output_type": "stream",
     "text": [
      "CPU times: user 8.41 s, sys: 2.02 s, total: 10.4 s\n",
      "Wall time: 7.81 s\n"
     ]
    }
   ],
   "source": [
    "%%time\n",
    "token_text = []\n",
    "\n",
    "for doc in nlp.pipe(text):\n",
    "    for sent in doc.sents:\n",
    "        token_text.append([t.lower_ for t in sent if not t.is_punct])"
   ]
  },
  {
   "cell_type": "code",
   "execution_count": 34,
   "metadata": {},
   "outputs": [],
   "source": [
    "common_terms = list(stop_words.ENGLISH_STOP_WORDS) + [\"'m\", \"'re\", \"'ll\", \"'s\", \"'ve\", \"'d\", 'ca', 'is']\n",
    "common_terms.remove('not')\n",
    "common_terms.remove('nothing')\n",
    "common_terms.remove('never')"
   ]
  },
  {
   "cell_type": "code",
   "execution_count": 35,
   "metadata": {},
   "outputs": [],
   "source": [
    "WORDS_RE = re.compile(r'\\W+')"
   ]
  },
  {
   "cell_type": "code",
   "execution_count": 36,
   "metadata": {},
   "outputs": [],
   "source": [
    "phrases = Phrases(token_text, common_terms=common_terms)\n",
    "colloc = Phraser(phrases)\n",
    "colloc_text = colloc[token_text]\n",
    "tri_phrases = Phrases(colloc_text, common_terms=common_terms)\n",
    "tri_colloc = Phraser(tri_phrases)\n",
    "tri_colloc_text = tri_colloc[colloc_text]"
   ]
  },
  {
   "cell_type": "code",
   "execution_count": 38,
   "metadata": {},
   "outputs": [],
   "source": [
    "colloc_sent_li = []\n",
    "for i in tri_colloc_text:\n",
    "    if '_' in str(i):\n",
    "        colloc_sent_li.append(i)\n"
   ]
  },
  {
   "cell_type": "code",
   "execution_count": 39,
   "metadata": {},
   "outputs": [
    {
     "name": "stdout",
     "output_type": "stream",
     "text": [
      "[['i', 'typically', 'do', 'not', 'write', 'reviews', 'but', 'i', 'was', 'impressed', 'when', 'i', 'put', 'in', 'a', 'aa_battery'], ['very', 'small', 'flashlight', 'but', 'super_bright'], ['i', 'did_not', 'notice', 'a', 'big', 'difference', 'in', 'brightness', 'between', 'the', 'spray', 'view', 'and', 'the', 'focused', 'view', 'but', 'there', 'could', 'be', 'a', 'difference', 'in', 'distance', 'just', 'guessing'], ['perfect', 'size', 'for', 'purse', 'or', 'glove_box'], ['great', 'little', 'flashlight', 'for', 'the', 'price', 'super_bright', 'and', 'sturdy'], ['bought', 'some', 'from', 'another', 'company', 'in', 'colors', 'and', 'a', 'few', 'had', 'problems', 'so', 'they', 'are', 'not', 'prefect', 'but', 'for', 'the', 'price', 'amazing', 'even', 'if', 'one', 'out', 'of', '10', 'does_not', 'work'], ['these', 'little', 'guys', 'are', 'rugged', 'durable', 'functional', 'and', 'easy_to_use', ' '], ['great_deal', 'for', 'a', 'pair', 'of', 'mini', 'flashlights', ' '], ['takes', 'just', 'one', 'double', 'aa_battery', ' '], ['great', 'value', 'super_bright']]\n"
     ]
    }
   ],
   "source": [
    "print(colloc_sent_li[0:10])"
   ]
  },
  {
   "cell_type": "code",
   "execution_count": 40,
   "metadata": {},
   "outputs": [
    {
     "name": "stdout",
     "output_type": "stream",
     "text": [
      "CPU times: user 1.41 s, sys: 29.7 ms, total: 1.44 s\n",
      "Wall time: 1.42 s\n"
     ]
    }
   ],
   "source": [
    "%%time\n",
    "\n",
    "model = Word2Vec(tri_colloc_text, size=100, workers=8)"
   ]
  },
  {
   "cell_type": "code",
   "execution_count": 41,
   "metadata": {},
   "outputs": [],
   "source": [
    "vocab_set = set()"
   ]
  },
  {
   "cell_type": "code",
   "execution_count": 42,
   "metadata": {},
   "outputs": [],
   "source": [
    "for sent in tri_colloc_text:\n",
    "    vocab_set.update(sent)"
   ]
  },
  {
   "cell_type": "code",
   "execution_count": 43,
   "metadata": {},
   "outputs": [],
   "source": [
    "vocab = pd.Series(list(model.wv.vocab))\n",
    "vocab_vectors = []\n",
    "\n",
    "for word in vocab:\n",
    "    try:\n",
    "        vec = model.wv[word]\n",
    "        vocab_vectors.append(vec)\n",
    "    except:\n",
    "        pass"
   ]
  },
  {
   "cell_type": "code",
   "execution_count": 44,
   "metadata": {},
   "outputs": [],
   "source": [
    "vector_array = np.concatenate(vocab_vectors, axis=0).reshape(-1, 100)\n",
    "vec_array_l2 = normalize(vector_array, norm='l2')"
   ]
  },
  {
   "cell_type": "code",
   "execution_count": 45,
   "metadata": {},
   "outputs": [],
   "source": [
    "km = KMeans(n_clusters=100, init='random', n_jobs=1, max_iter=1000)"
   ]
  },
  {
   "cell_type": "code",
   "execution_count": 46,
   "metadata": {},
   "outputs": [
    {
     "name": "stdout",
     "output_type": "stream",
     "text": [
      "CPU times: user 249 ms, sys: 11.8 ms, total: 261 ms\n",
      "Wall time: 244 ms\n"
     ]
    },
    {
     "data": {
      "text/plain": [
       "KMeans(algorithm='auto', copy_x=True, init='random', max_iter=1000,\n",
       "    n_clusters=100, n_init=10, n_jobs=1, precompute_distances='auto',\n",
       "    random_state=None, tol=0.0001, verbose=0)"
      ]
     },
     "execution_count": 46,
     "metadata": {},
     "output_type": "execute_result"
    }
   ],
   "source": [
    "%%time\n",
    "km.fit(vec_array_l2)"
   ]
  },
  {
   "cell_type": "code",
   "execution_count": 47,
   "metadata": {},
   "outputs": [
    {
     "data": {
      "text/plain": [
       "(3       bright\n",
       " 8        light\n",
       " 30        good\n",
       " 160       nice\n",
       " 213    battery\n",
       " dtype: object, array([95, 95, 95, 15, 95], dtype=int32))"
      ]
     },
     "execution_count": 47,
     "metadata": {},
     "output_type": "execute_result"
    }
   ],
   "source": [
    "words_to_lookup = ['battery', 'bright','good', 'nice','light']\n",
    "series_filter = vocab.isin(words_to_lookup)\n",
    "word_labels = km.labels_[series_filter]\n",
    "words = vocab[series_filter]\n",
    "words, word_labels"
   ]
  },
  {
   "cell_type": "code",
   "execution_count": 48,
   "metadata": {},
   "outputs": [
    {
     "name": "stdout",
     "output_type": "stream",
     "text": [
      "============bright=============\n",
      "0                it\n",
      "1                is\n",
      "2                 a\n",
      "3            bright\n",
      "4           durable\n",
      "5               and\n",
      "6             cheap\n",
      "7            little\n",
      "8             light\n",
      "9           perfect\n",
      "10              for\n",
      "12              the\n",
      "13             like\n",
      "14                 \n",
      "15                i\n",
      "16             even\n",
      "17             used\n",
      "19               an\n",
      "20             when\n",
      "21               to\n",
      "22               on\n",
      "23               my\n",
      "26            still\n",
      "28            these\n",
      "29              are\n",
      "30             good\n",
      "31      flashlights\n",
      "33              set\n",
      "35            price\n",
      "36             they\n",
      "           ...     \n",
      "382       different\n",
      "384              us\n",
      "389      adjustable\n",
      "392          strong\n",
      "396            dark\n",
      "397            know\n",
      "402             get\n",
      "404           press\n",
      "409            make\n",
      "411         without\n",
      "415               1\n",
      "423        settings\n",
      "426           being\n",
      "431            life\n",
      "432           worth\n",
      "438              by\n",
      "440            want\n",
      "441    flash_lights\n",
      "454            stay\n",
      "459            back\n",
      "467            type\n",
      "481             way\n",
      "486            half\n",
      "489          switch\n",
      "505            hard\n",
      "506             300\n",
      "509            away\n",
      "513         helpful\n",
      "515             'll\n",
      "529              li\n",
      "Length: 203, dtype: object\n",
      "============light=============\n",
      "0                it\n",
      "1                is\n",
      "2                 a\n",
      "3            bright\n",
      "4           durable\n",
      "5               and\n",
      "6             cheap\n",
      "7            little\n",
      "8             light\n",
      "9           perfect\n",
      "10              for\n",
      "12              the\n",
      "13             like\n",
      "14                 \n",
      "15                i\n",
      "16             even\n",
      "17             used\n",
      "19               an\n",
      "20             when\n",
      "21               to\n",
      "22               on\n",
      "23               my\n",
      "26            still\n",
      "28            these\n",
      "29              are\n",
      "30             good\n",
      "31      flashlights\n",
      "33              set\n",
      "35            price\n",
      "36             they\n",
      "           ...     \n",
      "382       different\n",
      "384              us\n",
      "389      adjustable\n",
      "392          strong\n",
      "396            dark\n",
      "397            know\n",
      "402             get\n",
      "404           press\n",
      "409            make\n",
      "411         without\n",
      "415               1\n",
      "423        settings\n",
      "426           being\n",
      "431            life\n",
      "432           worth\n",
      "438              by\n",
      "440            want\n",
      "441    flash_lights\n",
      "454            stay\n",
      "459            back\n",
      "467            type\n",
      "481             way\n",
      "486            half\n",
      "489          switch\n",
      "505            hard\n",
      "506             300\n",
      "509            away\n",
      "513         helpful\n",
      "515             'll\n",
      "529              li\n",
      "Length: 203, dtype: object\n",
      "============good=============\n",
      "0                it\n",
      "1                is\n",
      "2                 a\n",
      "3            bright\n",
      "4           durable\n",
      "5               and\n",
      "6             cheap\n",
      "7            little\n",
      "8             light\n",
      "9           perfect\n",
      "10              for\n",
      "12              the\n",
      "13             like\n",
      "14                 \n",
      "15                i\n",
      "16             even\n",
      "17             used\n",
      "19               an\n",
      "20             when\n",
      "21               to\n",
      "22               on\n",
      "23               my\n",
      "26            still\n",
      "28            these\n",
      "29              are\n",
      "30             good\n",
      "31      flashlights\n",
      "33              set\n",
      "35            price\n",
      "36             they\n",
      "           ...     \n",
      "382       different\n",
      "384              us\n",
      "389      adjustable\n",
      "392          strong\n",
      "396            dark\n",
      "397            know\n",
      "402             get\n",
      "404           press\n",
      "409            make\n",
      "411         without\n",
      "415               1\n",
      "423        settings\n",
      "426           being\n",
      "431            life\n",
      "432           worth\n",
      "438              by\n",
      "440            want\n",
      "441    flash_lights\n",
      "454            stay\n",
      "459            back\n",
      "467            type\n",
      "481             way\n",
      "486            half\n",
      "489          switch\n",
      "505            hard\n",
      "506             300\n",
      "509            away\n",
      "513         helpful\n",
      "515             'll\n",
      "529              li\n",
      "Length: 203, dtype: object\n",
      "============nice=============\n",
      "11          camping\n",
      "18               as\n",
      "25            solid\n",
      "27            works\n",
      "34       flashlight\n",
      "44            great\n",
      "49               up\n",
      "53          quality\n",
      "84          walking\n",
      "89            money\n",
      "92             best\n",
      "96         powerful\n",
      "100          things\n",
      "101             put\n",
      "109            than\n",
      "116          having\n",
      "121          needed\n",
      "127             too\n",
      "134            been\n",
      "145    super_bright\n",
      "148      brightness\n",
      "152          during\n",
      "160            nice\n",
      "167              wo\n",
      "183              go\n",
      "191            item\n",
      "195            tiny\n",
      "226             bad\n",
      "232               5\n",
      "235         husband\n",
      "241          sturdy\n",
      "253           seems\n",
      "256            over\n",
      "263       rockbirds\n",
      "274     lightweight\n",
      "289           broke\n",
      "296           every\n",
      "314          almost\n",
      "325       something\n",
      "329            find\n",
      "352           super\n",
      "356             say\n",
      "377         nothing\n",
      "383            into\n",
      "398            long\n",
      "399             new\n",
      "420       recommend\n",
      "425             her\n",
      "427          though\n",
      "433          design\n",
      "449            else\n",
      "457    power_outage\n",
      "464              'd\n",
      "482             far\n",
      "491           thing\n",
      "494           looks\n",
      "496          inside\n",
      "517         however\n",
      "523      heavy_duty\n",
      "dtype: object\n",
      "============battery=============\n",
      "0                it\n",
      "1                is\n",
      "2                 a\n",
      "3            bright\n",
      "4           durable\n",
      "5               and\n",
      "6             cheap\n",
      "7            little\n",
      "8             light\n",
      "9           perfect\n",
      "10              for\n",
      "12              the\n",
      "13             like\n",
      "14                 \n",
      "15                i\n",
      "16             even\n",
      "17             used\n",
      "19               an\n",
      "20             when\n",
      "21               to\n",
      "22               on\n",
      "23               my\n",
      "26            still\n",
      "28            these\n",
      "29              are\n",
      "30             good\n",
      "31      flashlights\n",
      "33              set\n",
      "35            price\n",
      "36             they\n",
      "           ...     \n",
      "382       different\n",
      "384              us\n",
      "389      adjustable\n",
      "392          strong\n",
      "396            dark\n",
      "397            know\n",
      "402             get\n",
      "404           press\n",
      "409            make\n",
      "411         without\n",
      "415               1\n",
      "423        settings\n",
      "426           being\n",
      "431            life\n",
      "432           worth\n",
      "438              by\n",
      "440            want\n",
      "441    flash_lights\n",
      "454            stay\n",
      "459            back\n",
      "467            type\n",
      "481             way\n",
      "486            half\n",
      "489          switch\n",
      "505            hard\n",
      "506             300\n",
      "509            away\n",
      "513         helpful\n",
      "515             'll\n",
      "529              li\n",
      "Length: 203, dtype: object\n"
     ]
    }
   ],
   "source": [
    "for cluster_num, word in zip(word_labels, words):\n",
    "    print('============{}============='.format(word))\n",
    "    print(vocab[km.labels_ == cluster_num])"
   ]
  },
  {
   "cell_type": "code",
   "execution_count": 49,
   "metadata": {},
   "outputs": [],
   "source": [
    "num_of_topics = 50"
   ]
  },
  {
   "cell_type": "code",
   "execution_count": 50,
   "metadata": {},
   "outputs": [],
   "source": [
    "stops = list(stop_words.ENGLISH_STOP_WORDS) + ['what', 'just', 'like', 've', \"'ve\", \"'m\", \"'s\", \"'ll\", \"ll\",\n",
    "                                               'really',\n",
    "                                              ]"
   ]
  },
  {
   "cell_type": "code",
   "execution_count": 51,
   "metadata": {},
   "outputs": [],
   "source": [
    "pipeline = Pipeline([('tfidf', TfidfVectorizer(min_df=0.001, stop_words=stops)),\n",
    "                     ('tsvd', TruncatedSVD(n_components=num_of_topics, n_iter=10)),\n",
    "                     ('norm', Normalizer())\n",
    "                    ])"
   ]
  },
  {
   "cell_type": "code",
   "execution_count": 52,
   "metadata": {},
   "outputs": [],
   "source": [
    "new_data = pipeline.fit_transform(' '.join(sent) for sent in tri_colloc_text)"
   ]
  },
  {
   "cell_type": "code",
   "execution_count": 53,
   "metadata": {},
   "outputs": [],
   "source": [
    "tfidf = pipeline.named_steps['tfidf']\n",
    "tsvd = pipeline.named_steps['tsvd']"
   ]
  },
  {
   "cell_type": "code",
   "execution_count": 54,
   "metadata": {},
   "outputs": [],
   "source": [
    "# repurposed from https://de.dariah.eu/tatom/topic_model_python.html#using-non-negative-matrix-factorization\n",
    "def print_topic_words(components, vocab, num_topics=10, num_of_word_per_topic=10):\n",
    "    topic_words = []\n",
    "    vocab_array = np.array(vocab)\n",
    "\n",
    "    for topic in components:\n",
    "        word_idx = np.argsort(topic)[::-1][:num_of_word_per_topic]\n",
    "        topic_words.append((vocab_array[word_idx]).tolist())\n",
    "        \n",
    "    for topic, words in list(zip(['Topic_{}'.format(i+1) for i in range(num_topics)], topic_words))[:10]:\n",
    "        print(topic, words)"
   ]
  },
  {
   "cell_type": "code",
   "execution_count": 55,
   "metadata": {},
   "outputs": [
    {
     "name": "stdout",
     "output_type": "stream",
     "text": [
      "Topic_1 ['great', 'bright', 'light', 'flashlights', 'little', 'good', 'price', 'flashlight', 'small', 'work']\n",
      "Topic_2 ['bright', 'light', 'small', 'nice', 'compact', 'size', 'good', 'strobe', 'love', 'battery']\n",
      "Topic_3 ['good', 'price', 'quality', 'little', 'flashlights', 'flashlight', 'buy', 'works', 'work', 'battery']\n",
      "Topic_4 ['flashlights', 'little', 'small', 'awesome', 'work', 'love', 'led', 'nice', 'handy', 'great_deal']\n",
      "Topic_5 ['light', 'small', 'flashlight', 'little', 'lot', 'use', 'size', 'time', 'battery', 'weight']\n",
      "Topic_6 ['flashlight', 'little', 'nice', 'best', 'lights', 'excellent', 'bright', 'money', 'super_bright', 'perfect']\n",
      "Topic_7 ['work', 'flashlight', 'small', 'pocket', 'use', 'powerful', 'does_not', 'compact', 'super_bright', 'battery']\n",
      "Topic_8 ['small', 'product', 'size', 'powerful', 'works', 'flashlights', 'great', 'pocket', 'compact', 'price']\n",
      "Topic_9 ['price', 'product', 'flashlight', 'love', 'nice', 'excellent', 'worth', 'ca', 'flashlights', 't_beat']\n",
      "Topic_10 ['love', 'product', 'size', 'works', 'compact', 'battery', 'got', 'use', 'clip', 'belt']\n"
     ]
    }
   ],
   "source": [
    "print_topic_words(tsvd.components_, tfidf.get_feature_names())"
   ]
  },
  {
   "cell_type": "code",
   "execution_count": 56,
   "metadata": {},
   "outputs": [
    {
     "name": "stderr",
     "output_type": "stream",
     "text": [
      "/Users/mani/anaconda3/lib/python3.6/site-packages/sklearn/decomposition/online_lda.py:536: DeprecationWarning: The default value for 'learning_method' will be changed from 'online' to 'batch' in the release 0.20. This warning was introduced in 0.18.\n",
      "  DeprecationWarning)\n"
     ]
    }
   ],
   "source": [
    "lda_pipe = Pipeline([('tfidf', TfidfVectorizer(min_df=0.001, stop_words=stops)),\n",
    "                     ('lda', LatentDirichletAllocation(n_components=num_of_topics)),\n",
    "                    ])\n",
    "lda_pipe.fit_transform(' '.join(sent) for sent in tri_colloc_text)\n",
    "tfidf = lda_pipe.named_steps['tfidf']\n",
    "lda = lda_pipe.named_steps['lda']"
   ]
  },
  {
   "cell_type": "code",
   "execution_count": 57,
   "metadata": {},
   "outputs": [
    {
     "name": "stdout",
     "output_type": "stream",
     "text": [
      "Topic_1 ['item', 'fast', 'packaging', 'return', 'absolutely', 'shipping', 'metal', 'pinpoint', 'piece', 'quick']\n",
      "Topic_2 ['love', 'feature', 'bright', 'used', 'lost', 'takes', 'think', 'did_n', 'zoom', 'need']\n",
      "Topic_3 ['clip', 'carry', 'nt', 'convenient', 'belt', 'pocket', 'issue', 'months', 'wide', 'cheaply']\n",
      "Topic_4 ['say', 'needed', 'glad', 'mighty', 'let', 'replace', 'reviews', 'hours', 'door', 'used']\n",
      "Topic_5 ['light', 'small', 'way', 'super_bright', 'expected', 'fit', 'value', 'used', 'flashlight', 'lot']\n",
      "Topic_6 ['better', 'arrived', 'hand', 'did', 'palm', 'fits', 'problem', 'similar', 'yeah', 'batteries']\n",
      "Topic_7 ['buy', 'need', 'recommend', 'definitely', 'make', 'life', 'junk', 'couple', '10', 'long_time']\n",
      "Topic_8 ['awesome', 'come', 'flashlights', 'soon', 'daily', 'buying', 'larger', 'look', 'carry', 'hand']\n",
      "Topic_9 ['live', 'allows', 'sized', 'woods', 'searching', 'quickly', 'pinpoint', 'nice', 'arrived', 'power']\n",
      "Topic_10 ['works', 'set', 'great', 'fine', 'stars', 'second', 'spot', 'unit', 'gets', 'complaints']\n"
     ]
    }
   ],
   "source": [
    "print_topic_words(lda.components_, tfidf.get_feature_names())"
   ]
  },
  {
   "cell_type": "code",
   "execution_count": null,
   "metadata": {},
   "outputs": [],
   "source": []
  },
  {
   "cell_type": "code",
   "execution_count": null,
   "metadata": {},
   "outputs": [],
   "source": []
  }
 ],
 "metadata": {
  "kernelspec": {
   "display_name": "Python 3",
   "language": "python",
   "name": "python3"
  },
  "language_info": {
   "codemirror_mode": {
    "name": "ipython",
    "version": 3
   },
   "file_extension": ".py",
   "mimetype": "text/x-python",
   "name": "python",
   "nbconvert_exporter": "python",
   "pygments_lexer": "ipython3",
   "version": "3.6.3"
  }
 },
 "nbformat": 4,
 "nbformat_minor": 1
}
