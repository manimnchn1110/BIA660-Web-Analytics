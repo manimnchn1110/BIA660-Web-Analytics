{
 "cells": [
  {
   "cell_type": "markdown",
   "metadata": {},
   "source": [
    "Assignment1\n",
    "- import libraries"
   ]
  },
  {
   "cell_type": "code",
   "execution_count": 1,
   "metadata": {},
   "outputs": [],
   "source": [
    "from __future__ import print_function\n",
    "import re\n",
    "import spacy\n",
    "from pyclausie import ClausIE"
   ]
  },
  {
   "cell_type": "markdown",
   "metadata": {},
   "source": [
    "- load 'en' and clausie instances\n",
    "- load pattern object fun  \n",
    "    Compile(pattern, flags=0)  \n",
    "    Compile a regular expression pattern, returning a pattern object."
   ]
  },
  {
   "cell_type": "code",
   "execution_count": 2,
   "metadata": {},
   "outputs": [],
   "source": [
    "nlp = spacy.load('en')\n",
    "cl = ClausIE.get_instance()\n",
    "re_spaces = re.compile(r'\\s+')"
   ]
  },
  {
   "cell_type": "markdown",
   "metadata": {},
   "source": [
    "- Person Class"
   ]
  },
  {
   "cell_type": "code",
   "execution_count": 3,
   "metadata": {},
   "outputs": [],
   "source": [
    "class Person(object):\n",
    "    def __init__(self, name, likes=None, not_likes=None, has=None, travels=None, friends=None):\n",
    "        self.name = name\n",
    "        self.likes = [] if likes is None else likes\n",
    "        self.not_likes = [] if not_likes is None else not_likes\n",
    "        self.has = [] if has is None else has\n",
    "        self.travels = [] if travels is None else travels\n",
    "        self.friends = [] if friends is None else friends\n",
    "\n",
    "    def __repr__(self):\n",
    "        return self.name\n",
    "        "
   ]
  },
  {
   "cell_type": "markdown",
   "metadata": {},
   "source": [
    "- Pet Class"
   ]
  },
  {
   "cell_type": "code",
   "execution_count": 4,
   "metadata": {},
   "outputs": [],
   "source": [
    "class Pet(object):\n",
    "    def __init__(self, pet_type, name=None, likes=None):\n",
    "        self.name = name\n",
    "        self.type = pet_type\n",
    "        self.likes=[] if likes is None else likes"
   ]
  },
  {
   "cell_type": "markdown",
   "metadata": {},
   "source": [
    "- Trip Class"
   ]
  },
  {
   "cell_type": "code",
   "execution_count": 5,
   "metadata": {},
   "outputs": [],
   "source": [
    "class Trip(object):\n",
    "    def __init__(self, destination, time):\n",
    "        self.name = destination\n",
    "        self.time = time     "
   ]
  },
  {
   "cell_type": "markdown",
   "metadata": {},
   "source": [
    "- Create empty lists to collect persons, pets and trips"
   ]
  },
  {
   "cell_type": "code",
   "execution_count": 6,
   "metadata": {},
   "outputs": [],
   "source": [
    "persons = []\n",
    "pets = []\n",
    "trips = []"
   ]
  },
  {
   "cell_type": "markdown",
   "metadata": {},
   "source": [
    "- Read file function"
   ]
  },
  {
   "cell_type": "code",
   "execution_count": 7,
   "metadata": {},
   "outputs": [],
   "source": [
    "def get_data_from_file(file_path='./assignment_01.data'):\n",
    "    with open(file_path) as infile:\n",
    "        cleaned_lines = [line.strip() for line in infile if not line.startswith(('$$$', '###', '==='))]\n",
    "    return cleaned_lines"
   ]
  },
  {
   "cell_type": "markdown",
   "metadata": {},
   "source": [
    "- Define select_person + add_person function  \n",
    "    #If input name is one person's name who is in the persons list, return it.  \n",
    "    #If not, add this person to the persons list."
   ]
  },
  {
   "cell_type": "code",
   "execution_count": 8,
   "metadata": {},
   "outputs": [],
   "source": [
    "def select_person(name):\n",
    "    for person in persons:\n",
    "        if person.name == name:\n",
    "            return person"
   ]
  },
  {
   "cell_type": "code",
   "execution_count": 9,
   "metadata": {},
   "outputs": [],
   "source": [
    "def add_person(name):\n",
    "    person = select_person(name)\n",
    "    if person is None:\n",
    "        new_person = Person(name)\n",
    "        persons.append(new_person)\n",
    "        return new_person\n",
    "    return person"
   ]
  },
  {
   "cell_type": "markdown",
   "metadata": {},
   "source": [
    "- Define function related to pet  \n",
    "    #If input name is one pet's name who is in the pets list, return it.  \n",
    "    #If not, add this pet to the persons list.  \n",
    "    #get the persons has a pet"
   ]
  },
  {
   "cell_type": "code",
   "execution_count": 10,
   "metadata": {},
   "outputs": [],
   "source": [
    "def select_pet(name):\n",
    "    for pet in pets:\n",
    "        if pet.name == name:\n",
    "            return pet"
   ]
  },
  {
   "cell_type": "code",
   "execution_count": 11,
   "metadata": {},
   "outputs": [],
   "source": [
    "def add_pet(type, name=None):\n",
    "    pet = None\n",
    "    if name:\n",
    "        pet = select_pet(name)\n",
    "    if pet is None:\n",
    "        pet = Pet(type, name)\n",
    "        pets.append(pet)\n",
    "    return pet"
   ]
  },
  {
   "cell_type": "code",
   "execution_count": 12,
   "metadata": {},
   "outputs": [],
   "source": [
    "def get_persons_pet(person_name):\n",
    "    person = select_person(person_name)\n",
    "    for pet in person.has:\n",
    "        if isinstance(pet, Pet):\n",
    "            return pet"
   ]
  },
  {
   "cell_type": "markdown",
   "metadata": {},
   "source": [
    "- Define function related to trip"
   ]
  },
  {
   "cell_type": "code",
   "execution_count": 13,
   "metadata": {},
   "outputs": [],
   "source": [
    "def select_trip(desintation,time):\n",
    "    for trip in trips:\n",
    "        if trip.name == destination:\n",
    "            return trip"
   ]
  },
  {
   "cell_type": "code",
   "execution_count": 14,
   "metadata": {},
   "outputs": [],
   "source": [
    "def add_trip(destination, time):\n",
    "    trip = None\n",
    "    if destination:\n",
    "        trip = select_trip(destination,time)\n",
    "    \n",
    "    if trip is None:\n",
    "        trip = Trip(destination, time)\n",
    "        trips.append(trip)\n",
    "    return trip"
   ]
  },
  {
   "cell_type": "code",
   "execution_count": 15,
   "metadata": {},
   "outputs": [],
   "source": [
    "def get_persons_trip(person_name):\n",
    "    person = select_person(person_name)\n",
    "    for trip in person.travels:\n",
    "        if isinstance(trip, Trip):\n",
    "            return trip"
   ]
  },
  {
   "cell_type": "code",
   "execution_count": 16,
   "metadata": {},
   "outputs": [],
   "source": [
    "def get_persons_trips(person_name):\n",
    "    person = select_person(person_name)\n",
    "    return person.travels"
   ]
  },
  {
   "cell_type": "markdown",
   "metadata": {},
   "source": [
    "- define function related to likes or not_likes"
   ]
  },
  {
   "cell_type": "code",
   "execution_count": 17,
   "metadata": {},
   "outputs": [],
   "source": [
    "def get_persons_likes(person_name):\n",
    "    s_person = select_person(person_name)\n",
    "    o_persons = s_person.likes\n",
    "    return o_persons"
   ]
  },
  {
   "cell_type": "code",
   "execution_count": 18,
   "metadata": {},
   "outputs": [],
   "source": [
    "def get_persons_not_likes(person_name):\n",
    "    s_person = select_person(person_name)\n",
    "    o_persons = s_person.not_likes\n",
    "    return o_persons"
   ]
  },
  {
   "cell_type": "code",
   "execution_count": 19,
   "metadata": {},
   "outputs": [],
   "source": [
    "def get_pets_likes(pet_name):\n",
    "    s_pet = select_pet(pet_name)\n",
    "    o_pets = s_pet.likes\n",
    "    return o_pets"
   ]
  },
  {
   "cell_type": "markdown",
   "metadata": {},
   "source": [
    "- Define process_relation_triplet function"
   ]
  },
  {
   "cell_type": "code",
   "execution_count": 20,
   "metadata": {},
   "outputs": [],
   "source": [
    "def process_relation_triplet(triples):\n",
    "    global persons, pets, trips, destination\n",
    "    persons = []\n",
    "    pets = []\n",
    "    trips = []\n",
    "    for triplet in triples:\n",
    "        sentence = triplet.subject + ' ' + triplet.predicate + ' ' + triplet.object\n",
    "        doc = nlp(unicode(sentence))\n",
    "        \n",
    "        #1) Who has a <pet_type>? \n",
    "        #Type 1\n",
    "        if triplet.subject.endswith('name') and ('dog' in triplet.subject or 'cat' in triplet.subject):\n",
    "            obj_span = doc.char_span(sentence.find(triplet.object), len(sentence))\n",
    "            if obj_span[0].pos_ == 'PROPN':\n",
    "                name = triplet.object\n",
    "                subj_start = sentence.find(triplet.subject)\n",
    "                subj_doc = doc.char_span(subj_start, subj_start + len(triplet.subject))\n",
    "                s_people = [token.text for token in subj_doc if token.ent_type_ == 'PERSON']\n",
    "                assert len(s_people) == 1\n",
    "                add_person(s_people[0])\n",
    "                s_person = select_person(s_people[0])\n",
    "                s_pet_type = 'dog' if 'dog' in triplet.subject else 'cat'\n",
    "                pet = add_pet(s_pet_type, name)\n",
    "                s_person.has.append(pet)\n",
    "        #Type 2\n",
    "        if triplet.predicate.endswith('named') and ('dog' in triplet.subject or 'cat' in triplet.subject):\n",
    "            obj_span = doc.char_span(sentence.find(triplet.object), len(sentence))\n",
    "            if obj_span[0].pos_ == 'PROPN':\n",
    "                name = triplet.object\n",
    "                relate_triplets = []\n",
    "                s_people = []\n",
    "                for i in triples:\n",
    "                    if i.index == triplet.index:\n",
    "                        relate_triplets.append(i)\n",
    "                for j in relate_triplets:\n",
    "                    sentence = j.subject + ' ' + j.predicate + ' ' + j.object\n",
    "                    doc = nlp(unicode(sentence))\n",
    "                    subj_start = sentence.find(j.subject)\n",
    "                    subj_doc = doc.char_span(subj_start, subj_start + len(j.subject))\n",
    "                    for token in subj_doc:\n",
    "                        if token.ent_type_ == 'PERSON':\n",
    "                            s_people= [token.text]\n",
    "                assert len(s_people) == 1\n",
    "                add_person(str(s_people[0]))\n",
    "                s_person = select_person(s_people[0])\n",
    "                s_pet_type = 'dog' if 'dog' in triplet.subject else 'cat'\n",
    "                pet = add_pet(s_pet_type, name)\n",
    "                s_person.has.append(pet)\n",
    "        #2) Who is [going to|flying to|traveling to|visiting] <place>?\n",
    "        #Type 1\n",
    "        if 'trip' in triplet.object:\n",
    "            time = []\n",
    "            destination = None\n",
    "            for t in doc:\n",
    "                if t.pos_ == 'PROPN' and t.head.text == 'to' :\n",
    "                    destination = t\n",
    "                if t.ent_type_ == 'DATE':\n",
    "                    time.append(str(t))\n",
    "            time = [' '.join(time)]\n",
    "            if time != ['']:\n",
    "                travel = add_trip(destination, time[0])\n",
    "            subj_start = sentence.find(triplet.subject)\n",
    "            subj_doc = doc.char_span(subj_start, subj_start + len(triplet.subject))\n",
    "            s_people = [token.text for token in subj_doc if token.ent_type_ == 'PERSON']\n",
    "            for i in s_people:\n",
    "                add_person(i)\n",
    "                s_person = select_person(i)\n",
    "                if travel not in s_person.travels:\n",
    "                    s_person.travels.append(travel)\n",
    "        #Type 2\n",
    "        if 'is flying' in triplet.predicate:\n",
    "            time = []\n",
    "            destination = None\n",
    "            for t in doc:\n",
    "                if t.pos_ == 'PROPN' and t.head.text == 'to' :\n",
    "                    destination = t\n",
    "                if t.ent_type_ == 'DATE':\n",
    "                    time.append(str(t))\n",
    "            time = [' '.join(time)]\n",
    "            if time != ['']:\n",
    "                travel = add_trip(destination, time[0])\n",
    "            s_person = triplet.subject\n",
    "            add_person(s_person)\n",
    "            s_person = select_person(s_person)\n",
    "            if travel not in s_person.travels:\n",
    "                s_person.travels.append(travel)\n",
    "\n",
    "        #Type 3\n",
    "        if 'leaves' in triplet.predicate:\n",
    "            time = []\n",
    "            destination = None\n",
    "            for t in doc:\n",
    "                if t.pos_ == 'PROPN' and t.head.text == 'for' :\n",
    "                    destination = t\n",
    "                if t.ent_type_ == 'DATE':\n",
    "                    time.append(str(t))\n",
    "            time = [' '.join(time)]\n",
    "            if time != ['']:\n",
    "                travel = add_trip(destination, time[0])  \n",
    "            s_person = triplet.subject\n",
    "            add_person(s_person)\n",
    "            s_person = select_person(s_person)\n",
    "            if travel not in s_person.travels:\n",
    "                s_person.travels.append(travel)\n",
    "        #Type 4\n",
    "        if 'is going' in triplet.predicate:\n",
    "            for t in doc:\n",
    "                if t.pos_ == 'PROPN' and t.head.text == 'to' :\n",
    "                    destination = t\n",
    "                if t.ent_type_ == 'DATE':\n",
    "                        time.append(str(t))\n",
    "            time = [''.join(time)]\n",
    "            if time != ['']:\n",
    "                travel = add_trip(destination, time[0])  \n",
    "            s_person = triplet.subject\n",
    "            add_person(s_person)\n",
    "            s_person = select_person(s_person)\n",
    "            if travel not in s_person.travels:\n",
    "                s_person.travels.append(travel)\n",
    "\n",
    "        #3) Does person like person?\n",
    "        for t in doc:\n",
    "            if t.pos_ == 'VERB' and t.head == t:\n",
    "                verb = t   \n",
    "        #doesn't like\n",
    "        if \"does n't like\" in triplet.predicate:\n",
    "            s = add_person(triplet.subject)\n",
    "            o = add_person(triplet.object)\n",
    "            if o not in s.not_likes:\n",
    "                s.not_likes.append(o)\n",
    "        #like\n",
    "        elif verb.lemma_ == 'like':\n",
    "            s = add_person(triplet.subject)\n",
    "            o = add_person(triplet.object)\n",
    "            if o not in s.likes:\n",
    "                s.likes.append(o)  \n",
    "\n",
    "        #P be friends with P\n",
    "        if verb.lemma_ == 'be' and triplet.object.startswith('friends with'):\n",
    "            fw_doc = nlp(unicode(triplet.object))\n",
    "            with_token = [t for t in fw_doc if t.text == 'with'][0]\n",
    "            fw_who = [t for t in with_token.children if t.dep_ == 'pobj'][0].text\n",
    "            if triplet.subject in [e.text for e in doc.ents if e.label_ == 'PERSON'] and fw_who in [e.text for e in doc.ents if e.label_ == 'PERSON']:\n",
    "                s = add_person(triplet.subject)\n",
    "                o = add_person(fw_who)\n",
    "                if o not in s.likes:\n",
    "                    s.likes.append(o)\n",
    "                if s not in o.likes:\n",
    "                    o.likes.append(s)\n",
    "        #P and P are friends\n",
    "        if verb.lemma_ == 'be' and triplet.object == 'friends' and 'and' in triplet.subject:\n",
    "            s_o = []\n",
    "            fw_doc = nlp(unicode(triplet.subject))            \n",
    "            for t in fw_doc:\n",
    "                if t.pos_ == 'PROPN' and t.ent_type_ == 'PERSON':\n",
    "                    t = add_person(t.text)\n",
    "                    s_o.append(t)\n",
    "            if s_o[1] not in s_o[0].likes:\n",
    "                s_o[0].likes.append(s_o[1])\n",
    "            if s_o[0] not in s_o[1].likes:\n",
    "                s_o[1].likes.append(s_o[0])\n",
    "        #P is friends with P, P and P\n",
    "        if verb.lemma_ == 'be' and triplet.object.startswith('friends') and 'and' in triplet.object:\n",
    "            s_o = []\n",
    "            fw_doc = nlp(unicode(triplet.object))\n",
    "            for t in fw_doc:\n",
    "                if t.pos_ == 'PROPN' and t.ent_type_ == 'PERSON':\n",
    "                    t = add_person(t.text)\n",
    "                    s_o.append(t)\n",
    "            s = add_person(triplet.subject)\n",
    "            if s_o[0] not in s.likes:\n",
    "                s.likes.append(s_o[0])\n",
    "            if s_o[1] not in s.likes:\n",
    "                s.likes.append(s_o[1])\n",
    "            if s_o[2] not in s.likes:\n",
    "                s.likes.append(s_o[2])\n",
    "            if s not in s_o[0].likes:\n",
    "                s_o[0].likes.append(s)\n",
    "            if s not in s_o[1].likes:\n",
    "                s_o[1].likes.append(s)\n",
    "            if s not in s_o[2].likes:\n",
    "                s_o[2].likes.append(s)\n",
    "                "
   ]
  },
  {
   "cell_type": "markdown",
   "metadata": {},
   "source": [
    "- Define function related to question  \n",
    "    #remove a, an, the  \n",
    "    #question who, what"
   ]
  },
  {
   "cell_type": "code",
   "execution_count": 21,
   "metadata": {},
   "outputs": [],
   "source": [
    "def preprocess_question(question):\n",
    "    q_words = question.split(' ')\n",
    "    for article in ('a', 'an', 'the'):\n",
    "        try:\n",
    "            q_words.remove(article)\n",
    "        except:\n",
    "            pass\n",
    "    return re.sub(re_spaces, ' ', ' '.join(q_words))"
   ]
  },
  {
   "cell_type": "code",
   "execution_count": 22,
   "metadata": {},
   "outputs": [],
   "source": [
    "def has_question_word(string):\n",
    "    # note: there are other question words\n",
    "    for qword in ('who', 'what'):\n",
    "        if qword in string.lower():\n",
    "            return True\n",
    "\n",
    "    return False"
   ]
  },
  {
   "cell_type": "code",
   "execution_count": 23,
   "metadata": {},
   "outputs": [],
   "source": [
    "def answer_question(question_triplet):\n",
    "    answers = []\n",
    "    o_person = None\n",
    "    # (WHO, has, dog)\n",
    "    if question_triplet.subject.lower() == 'who' and question_triplet.object == 'dog':\n",
    "        answer = '{} has a {} named {}.'\n",
    "        for person in persons:\n",
    "            pet = get_persons_pet(person.name)\n",
    "            if pet and pet.type == 'dog':\n",
    "                answers.append(answer.format(person.name, 'dog', pet.name))\n",
    "    # (WHO, has, cat)\n",
    "    elif question_triplet.subject.lower() == 'who' and question_triplet.object == 'cat':\n",
    "        answer = '{} has a {} named {}.'\n",
    "        for person in persons:\n",
    "            pet = get_persons_pet(person.name)\n",
    "            if pet and pet.type == 'cat':\n",
    "                answers.append(answer.format(person.name, 'cat', pet.name))\n",
    "                \n",
    "    # (WHO, travel, place)\n",
    "    elif (question_triplet.subject.lower() == 'who') and (question_triplet.predicate == 'is going' or\n",
    "                                                            question_triplet.predicate == 'is flying' or\n",
    "                                                            question_triplet.predicate =='is traveling'): \n",
    "        if question_triplet.object.lower() == 'to france':\n",
    "            answer = '{} has a trip to France in {}.'\n",
    "            for person in persons:\n",
    "                trip = get_persons_trip(person.name)\n",
    "                if trip and trip.name.text.lower() == 'france':\n",
    "                    answers.append(answer.format(person.name, trip.time))\n",
    "                        \n",
    "        elif question_triplet.object.lower() == 'to japan':\n",
    "            answer = '{} has a trip to Japan {}.'\n",
    "            for person in persons:\n",
    "                trip = get_persons_trip(person.name)\n",
    "                if trip and trip.name.text.lower() == 'japan':\n",
    "                    answers.append(answer.format(person.name, trip.time))\n",
    "                        \n",
    "                  \n",
    "        elif question_triplet.object.lower() == 'to peru':\n",
    "            answer = '{} has a trip to Peru on {}.'\n",
    "            for person in persons:\n",
    "                trip = get_persons_trip(person.name)\n",
    "                if trip and trip.name.text.lower() == 'peru':\n",
    "                    answers.append(answer.format(person.name, trip.time))\n",
    "                        \n",
    "                  \n",
    "        elif question_triplet.object.lower() == 'to mexico':\n",
    "            answer = '{} has a trip to Mexico in {}.'\n",
    "            for person in persons:\n",
    "                trips = get_persons_trips(person.name)\n",
    "                for trip in trips:\n",
    "                    if trip.name.text.lower() == 'mexico':\n",
    "                        answers.append(answer.format(person.name, trip.time))                \n",
    "        else:\n",
    "            answers.append(\"I don't know.\")\n",
    "            \n",
    "    elif ('when' in question_triplet.object.lower()) and (question_triplet.predicate == 'is going' or\n",
    "                                                        question_triplet.predicate == 'is flying' or\n",
    "                                                        question_triplet.predicate =='is traveling'): \n",
    "        if 'to france' in question_triplet.object.lower() and select_person(question_triplet.subject) in persons:\n",
    "            answer = '{} has a trip to France in {}.'\n",
    "            for person in persons:\n",
    "                trips = get_persons_trips(person.name)\n",
    "                for trip in trips:\n",
    "                    if trip.name.text.lower() == 'france' and person.name == question_triplet.subject:\n",
    "                        answers.append(answer.format(person.name, trip.time)) \n",
    "        elif 'to japan' in question_triplet.object.lower() and select_person(question_triplet.subject) in persons:\n",
    "            answer = '{} has a trip to Japan {}.'\n",
    "            for person in persons:\n",
    "                trips = get_persons_trips(person.name)\n",
    "                for trip in trips:\n",
    "                    if trip.name.text.lower() == 'japan' and person.name == question_triplet.subject:\n",
    "                        answers.append(answer.format(person.name, trip.time)) \n",
    "        elif 'to peru' in question_triplet.object.lower() and select_person(question_triplet.subject) in persons:\n",
    "            answer = '{} has a trip to Peru on {}.'\n",
    "            for person in persons:\n",
    "                trips = get_persons_trips(person.name)\n",
    "                for trip in trips:\n",
    "                    if trip.name.text.lower() == 'peru' and person.name == question_triplet.subject:\n",
    "                        answers.append(answer.format(person.name, trip.time)) \n",
    "        elif 'to mexico' in question_triplet.object.lower() and select_person(question_triplet.subject) in persons:\n",
    "            answer = '{} has a trip to Mexico in {}.'\n",
    "            for person in persons:\n",
    "                trips = get_persons_trips(person.name)\n",
    "                for trip in trips:\n",
    "                    if trip.name.text.lower() == 'mexico' and person.name == question_triplet.subject:\n",
    "                        answers.append(answer.format(person.name, trip.time)) \n",
    "        else:\n",
    "            answers.append(\"I don't know.\")\n",
    "    \n",
    "    #(who, like, p)\n",
    "    elif question_triplet.subject.lower() == 'who' and question_triplet.predicate.lower() == 'likes':\n",
    "        o_person = select_person(question_triplet.object)\n",
    "        answer = '{} like {}.'\n",
    "        for person in persons:\n",
    "            if o_person in person.likes:\n",
    "                answers.append(answer.format(person,o_person))\n",
    "    # (WHO, does P, like)\n",
    "    elif question_triplet.object.lower() == 'who' and question_triplet.predicate.lower() == 'does like':\n",
    "        s_person = select_person(question_triplet.subject)\n",
    "        answer = '{} like {}.'\n",
    "        for person in persons:\n",
    "            if person in s_person.likes:\n",
    "                answers.append(answer.format(s_person, person))\n",
    "                \n",
    "    #(DOES, P, like, P)\n",
    "    elif (question_triplet.subject.startswith('Does') or question_triplet[0].subject.startswith('does')) and question_triplet.predicate == 'like':\n",
    "            sentence = question_triplet.subject + ' ' + question_triplet.predicate + ' ' + question_triplet.object\n",
    "            doc = nlp(unicode(sentence))\n",
    "            for t in doc:\n",
    "                #print(t.text, t.pos_, t.head, t.ent_type_)\n",
    "                if t.pos_ == 'PROPN' and (t.text in question_triplet.subject):\n",
    "                    s_person = select_person(t.text)\n",
    "                if t.pos_ == 'PROPN' and (t.text in question_triplet.object):\n",
    "                    o_person = select_person(t.text)\n",
    "            like_persons = get_persons_likes(s_person.name)\n",
    "            not_like_persons = get_persons_not_likes(s_person.name)\n",
    "            if o_person in like_persons:\n",
    "                answer = \"Yes, {} likes {}.\"\n",
    "                answers.append(answer.format(s_person.name, o_person.name))\n",
    "            elif o_person in not_like_persons:\n",
    "                answer = \"No, {} doesn't like {}.\"\n",
    "                answers.append(answer.format(s_person.name, o_person.name))\n",
    "\n",
    "            else:\n",
    "                answers.append(\"I don't know.\")\n",
    "\n",
    "                    \n",
    "    else:\n",
    "        answers.append(\"I don't know.\")\n",
    "        \n",
    "    for answer in answers:\n",
    "        print(answer)"
   ]
  },
  {
   "cell_type": "markdown",
   "metadata": {},
   "source": [
    "#Test\n",
    "sents = [\"Who does Bob like?\"]\n",
    "question_triplet = cl.extract_triples(sents)[0]\n",
    "print(question_triplet)\n",
    "answers = []\n",
    "test = []\n",
    "# (WHO, like, P)\n",
    "elif question_triplet.subject.lower() == 'who' and question_triplet.predicate.lower() == 'likes':\n",
    "    o_person = select_person(question_triplet.object)\n",
    "    answer = '{} like {}.'\n",
    "    for person in persons:\n",
    "        if o_person in person.likes:\n",
    "            answers.append(answer.format(person,o_person))\n",
    "# (WHO, does P, like)\n",
    "elif question_triplet.object.lower() == 'who' and question_triplet.predicate.lower() == 'does like':\n",
    "    s_person = select_person(question_triplet.subject)\n",
    "    answer = '{} like {}.'\n",
    "    for person in persons:\n",
    "        if person in s_person.likes:\n",
    "            answers.append(answer.format(s_person, person))\n",
    "            \n",
    "print(answers)"
   ]
  },
  {
   "cell_type": "code",
   "execution_count": 24,
   "metadata": {},
   "outputs": [],
   "source": [
    "def main():\n",
    "    sents = get_data_from_file()\n",
    "    cl = ClausIE.get_instance()\n",
    "    triples = cl.extract_triples(sents)\n",
    "    process_relation_triplet(triples)\n",
    "        \n",
    "    question = ' '\n",
    "    while question[-1] != '?':\n",
    "        question = raw_input(\"Please enter your question: \")\n",
    "        if question[-1] != '?':\n",
    "            print('This is not a question... please try again')\n",
    "    \n",
    "    question_triplet = cl.extract_triples([preprocess_question(question)])[0]\n",
    "    answer_question(question_triplet)\n",
    "    \n"
   ]
  },
  {
   "cell_type": "code",
   "execution_count": 32,
   "metadata": {},
   "outputs": [
    {
     "name": "stdout",
     "output_type": "stream",
     "text": [
      "Please enter your question: Who likes Mary?\n",
      "Joe like Mary.\n",
      "Bob like Mary.\n",
      "Sally like Mary.\n",
      "Chris like Mary.\n"
     ]
    }
   ],
   "source": [
    "if __name__ == '__main__':\n",
    "    main()"
   ]
  },
  {
   "cell_type": "code",
   "execution_count": null,
   "metadata": {},
   "outputs": [],
   "source": []
  }
 ],
 "metadata": {
  "kernelspec": {
   "display_name": "Python 2",
   "language": "python",
   "name": "python2"
  },
  "language_info": {
   "codemirror_mode": {
    "name": "ipython",
    "version": 2
   },
   "file_extension": ".py",
   "mimetype": "text/x-python",
   "name": "python",
   "nbconvert_exporter": "python",
   "pygments_lexer": "ipython2",
   "version": "2.7.14"
  }
 },
 "nbformat": 4,
 "nbformat_minor": 2
}
