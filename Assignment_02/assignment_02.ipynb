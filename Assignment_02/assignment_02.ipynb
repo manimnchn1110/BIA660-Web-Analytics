{
 "cells": [
  {
   "cell_type": "markdown",
   "metadata": {},
   "source": [
    "Assignment_02"
   ]
  },
  {
   "cell_type": "markdown",
   "metadata": {},
   "source": [
    "**- Library**"
   ]
  },
  {
   "cell_type": "code",
   "execution_count": null,
   "metadata": {},
   "outputs": [],
   "source": [
    "from selenium import webdriver\n",
    "from selenium.webdriver.support.select import Select\n",
    "from selenium.webdriver import ActionChains\n",
    "from selenium.webdriver.common.by import By\n",
    "from selenium.webdriver.support import expected_conditions as EC\n",
    "from selenium.webdriver.support.wait import WebDriverWait\n",
    "import random\n",
    "import time\n",
    "from selenium.webdriver.common.keys import Keys\n",
    "import requests\n",
    "import bs4\n",
    "import pandas as pd\n",
    "from pandas import DataFrame\n",
    "import warnings\n",
    "warnings.filterwarnings(\"ignore\")\n",
    "import string\n",
    "import http.client, urllib.request, urllib.parse, urllib.error, base64\n",
    "import json"
   ]
  },
  {
   "cell_type": "markdown",
   "metadata": {},
   "source": [
    "**- Function**"
   ]
  },
  {
   "cell_type": "code",
   "execution_count": null,
   "metadata": {},
   "outputs": [],
   "source": [
    "def open_website(URL='http://www.mlb.com'):\n",
    "    #driver = webdriver.Firefox(executable_path='./geckodriver')\n",
    "    #driver.close()\n",
    "    driver = webdriver.Chrome(executable_path='./chromedriver')\n",
    "    driver.get(URL)\n",
    "    return driver"
   ]
  },
  {
   "cell_type": "code",
   "execution_count": null,
   "metadata": {},
   "outputs": [],
   "source": [
    "def delay_move_to_header(driver, target_text='megamenu-navbar-overflow__menu-item--stats'):\n",
    "    wait = WebDriverWait(driver, 10)\n",
    "    target = wait.until(EC.visibility_of_element_located((By.CLASS_NAME, target_text)))\n",
    "    normal_delay = random.normalvariate(2, 0.5)\n",
    "    time.sleep(normal_delay)\n",
    "    ActionChains(driver).move_to_element(target).perform()\n",
    "    print('Like human')\n",
    "    return target"
   ]
  },
  {
   "cell_type": "code",
   "execution_count": null,
   "metadata": {},
   "outputs": [],
   "source": [
    "def delay_select_item_with_header(driver, header_bar,target_text='2017 Regular Season Stats'):\n",
    "    normal_delay = random.normalvariate(2, 0.5)\n",
    "    time.sleep(normal_delay)\n",
    "    elements_list = header_bar.find_elements_by_tag_name('li') \n",
    "    for e in elements_list:\n",
    "        if e.text == target_text:\n",
    "            target = e\n",
    "    ActionChains(driver).move_to_element(target).click().perform()\n",
    "    print('Like human')\n",
    "    return driver"
   ]
  },
  {
   "cell_type": "code",
   "execution_count": null,
   "metadata": {},
   "outputs": [],
   "source": [
    "def select_season(driver, season_text='2015'):\n",
    "    normal_delay = random.normalvariate(2, 0.5)\n",
    "    time.sleep(normal_delay)\n",
    "    hit_element = driver.find_element_by_id('sp_hitting_season')\n",
    "    select_element = Select(hit_element)\n",
    "    select_element.select_by_value(season_text)\n",
    "    print('Like human')\n",
    "    return driver"
   ]
  },
  {
   "cell_type": "code",
   "execution_count": null,
   "metadata": {},
   "outputs": [],
   "source": [
    "def one_click_to_season(season):\n",
    "    driver=open_website()\n",
    "    header_bar = delay_move_to_header(driver)\n",
    "    driver = delay_select_item_with_header(driver, header_bar)\n",
    "    driver = select_season(driver,season)\n",
    "    print('Like human')\n",
    "    return driver"
   ]
  },
  {
   "cell_type": "code",
   "execution_count": null,
   "metadata": {},
   "outputs": [],
   "source": [
    "def select_game_type(driver,game_type_text='Regular Season', type_id = 'st_hitting_game_type'):\n",
    "    normal_delay = random.normalvariate(2, 0.5)\n",
    "    time.sleep(normal_delay)\n",
    "    hit_game_type = driver.find_element_by_id(type_id)\n",
    "    select_element = Select(hit_game_type)\n",
    "    select_element.select_by_visible_text(game_type_text)\n",
    "    print('Like human')\n",
    "    return driver"
   ]
  },
  {
   "cell_type": "code",
   "execution_count": null,
   "metadata": {},
   "outputs": [],
   "source": [
    "def select_team(driver):\n",
    "    normal_delay = random.normalvariate(2, 0.5)\n",
    "    time.sleep(normal_delay)\n",
    "    hit_team = driver.find_element_by_id('st_parent')\n",
    "    data_element = hit_team.click()\n",
    "    print('Like human')\n",
    "    return driver"
   ]
  },
  {
   "cell_type": "code",
   "execution_count": null,
   "metadata": {},
   "outputs": [],
   "source": [
    "def select_player(driver):\n",
    "    normal_delay = random.normalvariate(2, 0.5)\n",
    "    time.sleep(normal_delay)\n",
    "    hit_player = driver.find_element_by_id('sp_parent')\n",
    "    data_element = hit_team.click()\n",
    "    print('Like human')\n",
    "    return driver"
   ]
  },
  {
   "cell_type": "code",
   "execution_count": null,
   "metadata": {},
   "outputs": [],
   "source": [
    "def select_splits(driver,splits_text='First Inning'):\n",
    "    normal_delay = random.normalvariate(2, 0.5)\n",
    "    time.sleep(normal_delay)\n",
    "    hit_splits = driver.find_element_by_id('st_hitting_hitting_splits')\n",
    "    select_element = Select(hit_splits)\n",
    "    select_element.select_by_visible_text(splits_text)\n",
    "    print('Like human')\n",
    "    return driver"
   ]
  },
  {
   "cell_type": "code",
   "execution_count": null,
   "metadata": {},
   "outputs": [],
   "source": [
    "def extract_team_from_html(driver):\n",
    "    data_element = driver.find_element_by_id('datagrid')\n",
    "    data_html = data_element.get_attribute('innerHTML')\n",
    "    soup = bs4.BeautifulSoup(data_html,'html5lib')\n",
    "    table_trs = soup.find_all('tr')\n",
    "    col_n = []\n",
    "    col = soup.find_all('th')\n",
    "    for head in col:\n",
    "        if head.string is not None:\n",
    "            col_n.append(head.string)\n",
    "    col = soup.find_all('abbr')\n",
    "    for head in col:\n",
    "        col_n.append(head.string)\n",
    "    col_n.insert(2,\"dg-file_code\")\n",
    "    col_n.pop(4)\n",
    "    ulist = []\n",
    "    for tr in table_trs:\n",
    "        ui = []\n",
    "        for td in tr:\n",
    "            ui.append(td.string)\n",
    "        ulist.append(ui)\n",
    "    ulist.pop(0)\n",
    "    ulist.insert(0, col_n)\n",
    "    return ulist"
   ]
  },
  {
   "cell_type": "code",
   "execution_count": null,
   "metadata": {},
   "outputs": [],
   "source": [
    "def extract_player_from_html(driver):\n",
    "    data_element = driver.find_element_by_id('datagrid')\n",
    "    data_html = data_element.get_attribute('innerHTML')\n",
    "    soup = bs4.BeautifulSoup(data_html,'html5lib')\n",
    "    table_trs = soup.find_all('tr')\n",
    "    col_n = []\n",
    "    col = soup.find_all('th')\n",
    "    for head in col:\n",
    "        if head.string is not None:\n",
    "            col_n.append(head.string)\n",
    "    col = soup.find_all('abbr')\n",
    "    for head in col:\n",
    "        col_n.append(head.string)\n",
    "    col_n.remove('▲')\n",
    "    col_n.insert(3, 'player_id')\n",
    "    col_n.pop(5)\n",
    "    ulist = []\n",
    "    for tr in table_trs:\n",
    "        ui = []\n",
    "        for td in tr:\n",
    "            for a in td:\n",
    "                ui.append(a.string)\n",
    "        ulist.append(ui)\n",
    "    ulist.pop(0)\n",
    "    for i in ulist:\n",
    "        i.remove('\\xa0')\n",
    "    for i in ulist:\n",
    "        i.remove('\\xa0')\n",
    "    ulist.insert(0, col_n)\n",
    "    return ulist"
   ]
  },
  {
   "cell_type": "code",
   "execution_count": null,
   "metadata": {},
   "outputs": [],
   "source": [
    "def store_data_to_csv(ulist, file_name):\n",
    "    dataframe = pd.DataFrame(ulist[1:], columns=ulist[0])\n",
    "    dataframe.to_csv(file_name, index=False)"
   ]
  },
  {
   "cell_type": "code",
   "execution_count": null,
   "metadata": {},
   "outputs": [],
   "source": [
    "def select_all_players(driver):\n",
    "    target = driver.find_element_by_id('sp_hitting_playerType_alltime')\n",
    "    ActionChains(driver).move_to_element(target).click().perform()\n",
    "    return driver"
   ]
  },
  {
   "cell_type": "code",
   "execution_count": null,
   "metadata": {},
   "outputs": [],
   "source": [
    "def click_next_page(driver):\n",
    "    target = driver.find_element_by_class_name('paginationWidget-next')\n",
    "    ActionChains(driver).move_to_element(target).click().perform()\n",
    "    return driver"
   ]
  },
  {
   "cell_type": "code",
   "execution_count": null,
   "metadata": {},
   "outputs": [],
   "source": [
    "def click_next_extract_store(driver, file_name = 'Question_3.csv', page_no = 24):\n",
    "    global ulist, df\n",
    "    df = None\n",
    "    ulist = None\n",
    "    normal_delay = random.normalvariate(2, 0.5)\n",
    "    time.sleep(normal_delay)\n",
    "    print('Like Human.')\n",
    "    count = 1\n",
    "    while count < page_no:\n",
    "        driver = click_next_page(driver)\n",
    "        ulist = extract_player_from_html(driver)\n",
    "        normal_delay = random.normalvariate(2, 0.5)\n",
    "        time.sleep(normal_delay)\n",
    "        df = DataFrame(ulist[1:])\n",
    "        normal_delay = random.normalvariate(2, 0.5)\n",
    "        time.sleep(normal_delay)\n",
    "        with open(file_name, 'a') as infile:\n",
    "            df.to_csv(infile, index=False, header=False)\n",
    "        count +=1\n",
    "    return driver"
   ]
  },
  {
   "cell_type": "code",
   "execution_count": null,
   "metadata": {},
   "outputs": [],
   "source": [
    "def select_AL(driver):\n",
    "    target = driver.find_element_by_id('sp_hitting_league_code_al')\n",
    "    ActionChains(driver).move_to_element(target).click().perform()\n",
    "    return driver"
   ]
  },
  {
   "cell_type": "code",
   "execution_count": null,
   "metadata": {},
   "outputs": [],
   "source": [
    "def print_player_full_name(player_id):\n",
    "    URL='http://mlb.mlb.com/team/player.jsp?player_id='+player_id\n",
    "    driver = open_website(URL)\n",
    "    target = driver.find_element_by_class_name('full-name')\n",
    "    player_full_name = target.text\n",
    "    driver.close()\n",
    "    return player_full_name"
   ]
  },
  {
   "cell_type": "code",
   "execution_count": null,
   "metadata": {},
   "outputs": [],
   "source": [
    "def print_team_full_name(player_id):\n",
    "    URL='http://mlb.mlb.com/team/player.jsp?player_id='+player_id\n",
    "    driver = open_website(URL)\n",
    "    target = driver.find_element_by_class_name('languagebar__title')\n",
    "    team_full_name = target.text\n",
    "    team_full_name = team_full_name.replace('THE OFFICIAL SITE OF THE ', '')\n",
    "    driver.close()\n",
    "    return team_full_name"
   ]
  },
  {
   "cell_type": "code",
   "execution_count": null,
   "metadata": {},
   "outputs": [],
   "source": [
    "def print_born_country(player_id):\n",
    "    URL='http://mlb.mlb.com/team/player.jsp?player_id='+player_id\n",
    "    driver = open_website(URL)\n",
    "    idx = [2,3,4]\n",
    "    for i in idx:\n",
    "        target = driver.find_element_by_xpath(\"\"\"//*[@id=\"quick-stats\"]/div[2]/ul[1]/li[{}]\"\"\".format(str(i)))\n",
    "        if 'Born:' in target.text:\n",
    "            born = target.text\n",
    "            born_str = ' '\n",
    "            born_str = born_str.join(born.split()[0:3])\n",
    "            born_country = born.replace(born_str, '')\n",
    "            born_country = born_country.strip()\n",
    "    driver.close()\n",
    "    return born_country"
   ]
  },
  {
   "cell_type": "code",
   "execution_count": null,
   "metadata": {},
   "outputs": [],
   "source": [
    "def call_mlb_api(URL):\n",
    "    headers = {'Ocp-Apim-Subscription-Key': 'e6c835cafcca4a478215acfae764b336',}\n",
    "\n",
    "    try:\n",
    "        conn = http.client.HTTPSConnection('api.fantasydata.net')\n",
    "        conn.request(\"GET\", URL, \"{body}\", headers)\n",
    "        response = conn.getresponse()\n",
    "        data = response.read()\n",
    "        conn.close()\n",
    "        print('Success!')\n",
    "    except Exception as e:\n",
    "        print(\"[Errno {0}] {1}\".format(e.errno, e.strerror))\n",
    "        \n",
    "    return data"
   ]
  },
  {
   "cell_type": "code",
   "execution_count": null,
   "metadata": {},
   "outputs": [],
   "source": [
    "def transcode_b_to_json(data, file_name):\n",
    "    json_data = data.decode('utf8')\n",
    "    output_data = json.loads(json_data)\n",
    "    with open(file_name,\"w\") as outfile:\n",
    "        json.dump(output_data,outfile)\n",
    "    return None"
   ]
  },
  {
   "cell_type": "markdown",
   "metadata": {},
   "source": [
    "**1. Which team had the most homeruns in the regular season of 2015? Print the full team name.**"
   ]
  },
  {
   "cell_type": "markdown",
   "metadata": {},
   "source": [
    "- 2015\n",
    "- team\n",
    "- regular season\n",
    "- HR"
   ]
  },
  {
   "cell_type": "code",
   "execution_count": null,
   "metadata": {},
   "outputs": [],
   "source": [
    "driver = one_click_to_season('2015')\n",
    "driver = select_team(driver)\n",
    "driver = select_game_type(driver,'Regular Season')"
   ]
  },
  {
   "cell_type": "code",
   "execution_count": null,
   "metadata": {},
   "outputs": [],
   "source": [
    "ulist = extract_team_from_html(driver)\n",
    "store_data_to_csv(ulist, 'Question_1.csv')"
   ]
  },
  {
   "cell_type": "code",
   "execution_count": null,
   "metadata": {},
   "outputs": [],
   "source": [
    "df = pd.read_csv('Question_1.csv')"
   ]
  },
  {
   "cell_type": "code",
   "execution_count": null,
   "metadata": {},
   "outputs": [],
   "source": [
    "q1 = df[['Team','HR']].sort_values(by='HR', ascending=False)\n",
    "q1.iloc[0,:]"
   ]
  },
  {
   "cell_type": "code",
   "execution_count": null,
   "metadata": {},
   "outputs": [],
   "source": [
    "driver.close()"
   ]
  },
  {
   "cell_type": "markdown",
   "metadata": {},
   "source": [
    "**2. Which league (AL or NL) had the greatest average number of homeruns…  **"
   ]
  },
  {
   "cell_type": "markdown",
   "metadata": {},
   "source": [
    "a) in the regular season of 2015? Please give the league name and the average number of homeruns.  \n",
    "- season-2015\n",
    "- team\n",
    "- regular season\n",
    "- HR"
   ]
  },
  {
   "cell_type": "code",
   "execution_count": null,
   "metadata": {},
   "outputs": [],
   "source": [
    "driver = one_click_to_season('2015')\n",
    "driver = select_team(driver)\n",
    "driver = select_game_type(driver,'Regular Season')"
   ]
  },
  {
   "cell_type": "code",
   "execution_count": null,
   "metadata": {},
   "outputs": [],
   "source": [
    "ulist = extract_team_from_html(driver)\n",
    "store_data_to_csv(ulist, 'Question_2_a.csv')"
   ]
  },
  {
   "cell_type": "code",
   "execution_count": null,
   "metadata": {},
   "outputs": [],
   "source": [
    "driver.close()"
   ]
  },
  {
   "cell_type": "code",
   "execution_count": null,
   "metadata": {},
   "outputs": [],
   "source": [
    "df = pd.read_csv('Question_2_a.csv')"
   ]
  },
  {
   "cell_type": "code",
   "execution_count": null,
   "metadata": {},
   "outputs": [],
   "source": [
    "q2_a = df[['League','HR']].groupby('League', as_index=False)['HR'].mean()\n",
    "q2_a"
   ]
  },
  {
   "cell_type": "markdown",
   "metadata": {},
   "source": [
    " b) in the regular season of 2015 in the first inning? Please give the league name and the average number of homeruns.  \n",
    "- season-2015\n",
    "- team\n",
    "- regular season\n",
    "- first inning"
   ]
  },
  {
   "cell_type": "code",
   "execution_count": null,
   "metadata": {},
   "outputs": [],
   "source": [
    "driver = one_click_to_season('2015')\n",
    "driver = select_team(driver)\n",
    "driver = select_game_type(driver,'Regular Season')"
   ]
  },
  {
   "cell_type": "code",
   "execution_count": null,
   "metadata": {},
   "outputs": [],
   "source": [
    "driver = select_splits(driver,'First Inning')"
   ]
  },
  {
   "cell_type": "code",
   "execution_count": null,
   "metadata": {},
   "outputs": [],
   "source": [
    "ulist = extract_team_from_html(driver)\n",
    "store_data_to_csv(ulist, 'Question_2_b.csv')"
   ]
  },
  {
   "cell_type": "code",
   "execution_count": null,
   "metadata": {},
   "outputs": [],
   "source": [
    "driver.close()"
   ]
  },
  {
   "cell_type": "code",
   "execution_count": null,
   "metadata": {},
   "outputs": [],
   "source": [
    "df = pd.read_csv('Question_2_b.csv')"
   ]
  },
  {
   "cell_type": "code",
   "execution_count": null,
   "metadata": {},
   "outputs": [],
   "source": [
    "q2_b = df[['League', 'HR']].groupby('League', as_index=False)['HR'].mean()\n",
    "q2_b"
   ]
  },
  {
   "cell_type": "markdown",
   "metadata": {},
   "source": [
    "3. What is the name of the player with the best overall batting average in the 2017 regular season that played for the New York Yankees,who  \n",
    "    a) had at least 30 at bats? Please give his full name and position.  "
   ]
  },
  {
   "cell_type": "markdown",
   "metadata": {},
   "source": [
    "- 2017\n",
    "- all players\n",
    "- regular season\n",
    "- AVG\n",
    "- Full Name"
   ]
  },
  {
   "cell_type": "code",
   "execution_count": null,
   "metadata": {},
   "outputs": [],
   "source": [
    "driver = one_click_to_season('2017')\n",
    "driver = select_game_type(driver,'Regular Season', 'sp_hitting_game_type')"
   ]
  },
  {
   "cell_type": "code",
   "execution_count": null,
   "metadata": {},
   "outputs": [],
   "source": [
    "driver = select_all_players(driver)"
   ]
  },
  {
   "cell_type": "markdown",
   "metadata": {},
   "source": [
    "page1"
   ]
  },
  {
   "cell_type": "code",
   "execution_count": null,
   "metadata": {},
   "outputs": [],
   "source": [
    "ulist_1 =extract_player_from_html(driver)\n",
    "store_data_to_csv(ulist_1, 'Question_3.csv')"
   ]
  },
  {
   "cell_type": "markdown",
   "metadata": {},
   "source": [
    "page2-25"
   ]
  },
  {
   "cell_type": "code",
   "execution_count": null,
   "metadata": {},
   "outputs": [],
   "source": [
    "driver = click_next_extract_store(driver,'Question_3.csv', 25)"
   ]
  },
  {
   "cell_type": "code",
   "execution_count": null,
   "metadata": {},
   "outputs": [],
   "source": [
    "driver.close()"
   ]
  },
  {
   "cell_type": "code",
   "execution_count": null,
   "metadata": {},
   "outputs": [],
   "source": [
    "df = pd.read_csv('Question_3.csv')"
   ]
  },
  {
   "cell_type": "code",
   "execution_count": null,
   "metadata": {},
   "outputs": [],
   "source": [
    "q3_a = df[['Player','player_id' ,'Pos','AVG']][(df['Team']=='NYY')&(df['AB']>30)].sort_values(by='AVG', ascending=False)\n",
    "answer = q3_a.iloc[0,:]"
   ]
  },
  {
   "cell_type": "code",
   "execution_count": null,
   "metadata": {},
   "outputs": [],
   "source": [
    "player_id = str(answer[1])"
   ]
  },
  {
   "cell_type": "code",
   "execution_count": null,
   "metadata": {},
   "outputs": [],
   "source": [
    "full_name = print_player_full_name(player_id)\n",
    "answer[0]= full_name\n",
    "print(answer)"
   ]
  },
  {
   "cell_type": "markdown",
   "metadata": {},
   "source": [
    "b) played in the outfield (RF, CF, LF)? Please give his full name and position."
   ]
  },
  {
   "cell_type": "code",
   "execution_count": null,
   "metadata": {},
   "outputs": [],
   "source": [
    "df = pd.read_csv('Question_3.csv')"
   ]
  },
  {
   "cell_type": "code",
   "execution_count": null,
   "metadata": {},
   "outputs": [],
   "source": [
    "q3_b = df[['Player','player_id','Pos','AVG']][(df.Team=='NYY')& ((df.Pos=='RF')|(df.Pos=='CF')|(df.Pos=='LF'))].sort_values(by='AVG', ascending=False)\n",
    "answer = q3_b.iloc[0,:]"
   ]
  },
  {
   "cell_type": "code",
   "execution_count": null,
   "metadata": {},
   "outputs": [],
   "source": [
    "player_id = str(answer[1])"
   ]
  },
  {
   "cell_type": "code",
   "execution_count": null,
   "metadata": {},
   "outputs": [],
   "source": [
    "full_name = print_player_full_name(player_id)\n",
    "answer[0]= full_name\n",
    "print(answer)"
   ]
  },
  {
   "cell_type": "markdown",
   "metadata": {},
   "source": [
    "**4. Which player in the American League had the most at bats in the 2015 regular season? Please give his full name, full team name, and position.** \n",
    "\n",
    "- AL\n",
    "- 2015\n",
    "- Regular Season\n",
    "- player"
   ]
  },
  {
   "cell_type": "code",
   "execution_count": null,
   "metadata": {},
   "outputs": [],
   "source": [
    "driver = one_click_to_season('2015')\n",
    "driver = select_game_type(driver,'Regular Season', 'sp_hitting_game_type')"
   ]
  },
  {
   "cell_type": "code",
   "execution_count": null,
   "metadata": {},
   "outputs": [],
   "source": [
    "driver = select_all_players(driver)"
   ]
  },
  {
   "cell_type": "code",
   "execution_count": null,
   "metadata": {},
   "outputs": [],
   "source": [
    "driver = select_AL(driver)"
   ]
  },
  {
   "cell_type": "markdown",
   "metadata": {},
   "source": [
    "Page 1"
   ]
  },
  {
   "cell_type": "code",
   "execution_count": null,
   "metadata": {},
   "outputs": [],
   "source": [
    "ulist_1 =extract_player_from_html(driver)\n",
    "store_data_to_csv(ulist_1, 'Question_4.csv')"
   ]
  },
  {
   "cell_type": "markdown",
   "metadata": {},
   "source": [
    "Page 12"
   ]
  },
  {
   "cell_type": "code",
   "execution_count": null,
   "metadata": {},
   "outputs": [],
   "source": [
    "driver = click_next_extract_store(driver,'Question_4.csv', 12)"
   ]
  },
  {
   "cell_type": "code",
   "execution_count": null,
   "metadata": {},
   "outputs": [],
   "source": [
    "driver.close()"
   ]
  },
  {
   "cell_type": "code",
   "execution_count": null,
   "metadata": {},
   "outputs": [],
   "source": [
    "df=pd.read_csv('Question_4.csv')"
   ]
  },
  {
   "cell_type": "code",
   "execution_count": null,
   "metadata": {},
   "outputs": [],
   "source": [
    "q4 = df[['Player','player_id','Team','Pos','AB']].sort_values(by='AB', ascending=False)\n",
    "answer = q4.iloc[0, :]"
   ]
  },
  {
   "cell_type": "code",
   "execution_count": null,
   "metadata": {},
   "outputs": [],
   "source": [
    "player_id = str(answer[1])"
   ]
  },
  {
   "cell_type": "code",
   "execution_count": null,
   "metadata": {},
   "outputs": [],
   "source": [
    "full_name = print_player_full_name(player_id)\n",
    "answer[0]= full_name"
   ]
  },
  {
   "cell_type": "code",
   "execution_count": null,
   "metadata": {},
   "outputs": [],
   "source": [
    "team_full_name = print_team_full_name(player_id)\n",
    "answer[2]=team_full_name\n",
    "print(answer)"
   ]
  },
  {
   "cell_type": "markdown",
   "metadata": {},
   "source": [
    "**5. Which players from the 2014 All-star game were born in Latin America (google a country list)? Please give their full name and the full name of the team they play for.**"
   ]
  },
  {
   "cell_type": "markdown",
   "metadata": {},
   "source": [
    "- 2014\n",
    "- all-star game\n",
    "- player"
   ]
  },
  {
   "cell_type": "code",
   "execution_count": null,
   "metadata": {},
   "outputs": [],
   "source": [
    "driver = one_click_to_season('2014')\n",
    "driver = select_game_type(driver,'All-Star Game', 'sp_hitting_game_type')"
   ]
  },
  {
   "cell_type": "markdown",
   "metadata": {},
   "source": [
    "page 1"
   ]
  },
  {
   "cell_type": "code",
   "execution_count": null,
   "metadata": {},
   "outputs": [],
   "source": [
    "ulist_1 =extract_player_from_html(driver)\n",
    "store_data_to_csv(ulist_1, 'Question_5.csv')"
   ]
  },
  {
   "cell_type": "code",
   "execution_count": null,
   "metadata": {},
   "outputs": [],
   "source": [
    "df = pd.read_csv('Question_5.csv')\n",
    "Latin_A_list=[\"Argentina\", 'Bolivia', 'Brazil', 'Chile', 'Colombia', 'Costa Rica', 'Cuba', 'Dominican Republic', 'Ecuador' ,'El Salvador', 'French Guiana', 'Guadeloupe', 'Guatemala', 'Haiti', 'Honduras', 'Martinique', 'Mexico','Nicaragua', 'Panama', 'Paraguay','Peru','Puerto Rico', 'Saint Barthélemy', 'Saint Martin', 'Uruguay', 'Venezuela']"
   ]
  },
  {
   "cell_type": "code",
   "execution_count": null,
   "metadata": {},
   "outputs": [],
   "source": [
    "player_country_list = []\n",
    "for i in df['player_id']:\n",
    "    player_id = str(i)\n",
    "    player_born_country = print_born_country(player_id)\n",
    "    player_country_list.append(player_born_country)    \n",
    "df['Country'] = player_country_list"
   ]
  },
  {
   "cell_type": "code",
   "execution_count": null,
   "metadata": {},
   "outputs": [],
   "source": [
    "match_list = []\n",
    "for i in Latin_A_list:\n",
    "    for j in df.Country:\n",
    "        if i in j:\n",
    "            match_list.append(j)\n",
    "match_list = list(set(match_list))"
   ]
  },
  {
   "cell_type": "code",
   "execution_count": null,
   "metadata": {},
   "outputs": [],
   "source": [
    "q5 = df[['Player', 'Team', 'Country']][df.Country.isin(match_list)]\n",
    "q5"
   ]
  },
  {
   "cell_type": "markdown",
   "metadata": {},
   "source": [
    "**6. Please print the 2016 regular season schedule for the Houston Astros in chronological order. Each line printed to the screen should be in the following format:**\n",
    "   "
   ]
  },
  {
   "cell_type": "code",
   "execution_count": null,
   "metadata": {},
   "outputs": [],
   "source": [
    "\"\"\" <opponent Team Name> <game date> <stadium name> <city>, <state>\"\"\""
   ]
  },
  {
   "cell_type": "code",
   "execution_count": null,
   "metadata": {},
   "outputs": [],
   "source": [
    "data_schedule = call_mlb_api(\"/v3/mlb/scores/JSON/Games/2016\")\n",
    "transcode_b_to_json(data_schedule,\"Question_6_Schedules.json\")\n",
    "df = pd.read_json(\"Question_6_Schedules.json\")"
   ]
  },
  {
   "cell_type": "code",
   "execution_count": null,
   "metadata": {},
   "outputs": [],
   "source": [
    "q6_main = df[['HomeTeam','AwayTeam','DateTime', 'StadiumID']][(df['HomeTeam'] == 'HOU')|(df['AwayTeam']=='HOU')]"
   ]
  },
  {
   "cell_type": "code",
   "execution_count": null,
   "metadata": {},
   "outputs": [],
   "source": [
    "opponent_Team_Name = []\n",
    "for i in range(len(q6_main['HomeTeam'])):\n",
    "    if q6_main.iloc[i, 0] == 'HOU':\n",
    "        opponent_Team_Name.append(q6_main.iloc[i,1])\n",
    "    elif q6_main.iloc[i, 1] == 'HOU':\n",
    "        opponent_Team_Name.append(q6_main.iloc[i,0])\n",
    "    else:\n",
    "        print('Last Step Error')\n",
    "q6_main['Opponent'] = opponent_Team_Name"
   ]
  },
  {
   "cell_type": "code",
   "execution_count": null,
   "metadata": {},
   "outputs": [],
   "source": [
    "data_team = call_mlb_api(\"https://api.fantasydata.net/v3/mlb/scores/JSON/AllTeams\")\n",
    "transcode_b_to_json(data_team,\"Question_6_all_teams.json\")\n",
    "q6_team = pd.read_json(\"Question_6_all_teams.json\")"
   ]
  },
  {
   "cell_type": "code",
   "execution_count": null,
   "metadata": {},
   "outputs": [],
   "source": [
    "q6_team = q6_team[['Key', 'City','Name']]"
   ]
  },
  {
   "cell_type": "code",
   "execution_count": null,
   "metadata": {},
   "outputs": [],
   "source": [
    "city_name_list = []\n",
    "team_name_list = []\n",
    "for i in q6_main['Opponent']:\n",
    "    for j in q6_team['City'][q6_team['Key']==i]:\n",
    "        city_name = j \n",
    "        city_name_list.append(city_name)\n",
    "    for k in q6_team['Name'][q6_team['Key']==i]:\n",
    "        team_name = k\n",
    "        team_name_list.append(team_name)\n",
    "q6_main['City'] = city_name_list\n",
    "q6_main['Team'] = team_name_list"
   ]
  },
  {
   "cell_type": "code",
   "execution_count": null,
   "metadata": {},
   "outputs": [],
   "source": [
    "data_stadiums = call_mlb_api(\"/v3/mlb/scores/JSON/Stadiums\")\n",
    "transcode_b_to_json(data_stadiums,\"Question_6_stadiums.json\")\n",
    "q6_stadiums = pd.read_json(\"Question_6_stadiums.json\")"
   ]
  },
  {
   "cell_type": "code",
   "execution_count": null,
   "metadata": {},
   "outputs": [],
   "source": [
    "q6_stadiums = q6_stadiums[['StadiumID', 'Name', 'City','State']]"
   ]
  },
  {
   "cell_type": "code",
   "execution_count": null,
   "metadata": {},
   "outputs": [],
   "source": [
    "stadium_name_list = []\n",
    "state_list = []\n",
    "for i in q6_main['StadiumID']:\n",
    "    for j in q6_stadiums['Name'][q6_stadiums['StadiumID']==i]:\n",
    "        stadium_name = j\n",
    "        stadium_name_list.append(stadium_name)\n",
    "    for k in q6_stadiums['State'][q6_stadiums['StadiumID'] ==i]:\n",
    "        state = k\n",
    "        state_list.append(state)\n",
    "\n",
    "\n",
    "q6_main['Stadium'] = stadium_name_list\n",
    "q6_main['State'] = state_list"
   ]
  },
  {
   "cell_type": "code",
   "execution_count": null,
   "metadata": {},
   "outputs": [],
   "source": [
    "q6_main['Opponent Name'] = q6_main[['City', 'Team']].apply(lambda x: ' '.join(str(value) for value in x), axis=1)"
   ]
  },
  {
   "cell_type": "code",
   "execution_count": null,
   "metadata": {
    "scrolled": true
   },
   "outputs": [],
   "source": [
    "q6_main[['Opponent Name', 'DateTime', 'Stadium', 'City', 'State']]"
   ]
  },
  {
   "cell_type": "code",
   "execution_count": null,
   "metadata": {},
   "outputs": [],
   "source": []
  }
 ],
 "metadata": {
  "kernelspec": {
   "display_name": "Python 3",
   "language": "python",
   "name": "python3"
  },
  "language_info": {
   "codemirror_mode": {
    "name": "ipython",
    "version": 3
   },
   "file_extension": ".py",
   "mimetype": "text/x-python",
   "name": "python",
   "nbconvert_exporter": "python",
   "pygments_lexer": "ipython3",
   "version": "3.6.3"
  }
 },
 "nbformat": 4,
 "nbformat_minor": 2
}
